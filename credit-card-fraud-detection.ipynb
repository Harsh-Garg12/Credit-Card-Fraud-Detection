{
 "cells": [
  {
   "cell_type": "code",
   "execution_count": 1,
   "id": "dee92cea",
   "metadata": {},
   "outputs": [],
   "source": [
    "import numpy as np\n",
    "import pandas as pd\n",
    "import matplotlib.pyplot as plt\n",
    "import seaborn as sns\n",
    "from sklearn.preprocessing import RobustScaler\n",
    "from sklearn.manifold import TSNE\n",
    "from sklearn.decomposition import PCA, TruncatedSVD\n",
    "import time\n",
    "\n",
    "from sklearn.model_selection import train_test_split, RandomizedSearchCV, StratifiedKFold, StratifiedShuffleSplit\n",
    "from sklearn.linear_model import LogisticRegression\n",
    "from sklearn.tree import DecisionTreeClassifier\n",
    "from sklearn.svm import SVC\n",
    "from sklearn.ensemble import RandomForestClassifier\n",
    "from sklearn.neighbors import KNeighborsClassifier\n",
    "\n",
    "from sklearn.model_selection import GridSearchCV\n",
    "from sklearn.model_selection import cross_val_score\n",
    "from sklearn.ensemble import VotingClassifier\n",
    "from sklearn.metrics import r2_score, accuracy_score\n",
    "from sklearn.metrics import classification_report\n",
    "from sklearn.metrics import confusion_matrix, precision_recall_curve\n",
    "from sklearn.model_selection import cross_val_predict\n",
    "from sklearn.metrics import roc_auc_score, roc_curve, recall_score, precision_score, f1_score, average_precision_score\n",
    "from imblearn.pipeline import make_pipeline\n",
    "from imblearn.over_sampling import SMOTE\n",
    "from imblearn.under_sampling import NearMiss\n",
    "import collections\n",
    "from collections import Counter"
   ]
  },
  {
   "cell_type": "code",
   "execution_count": 2,
   "id": "69158d3c",
   "metadata": {},
   "outputs": [
    {
     "name": "stdout",
     "output_type": "stream",
     "text": [
      "Requirement already satisfied: imblearn in d:\\anaconda3distribution\\lib\\site-packages (0.0)\n",
      "Requirement already satisfied: imbalanced-learn in d:\\anaconda3distribution\\lib\\site-packages (from imblearn) (0.10.0)\n",
      "Requirement already satisfied: numpy>=1.17.3 in d:\\anaconda3distribution\\lib\\site-packages (from imbalanced-learn->imblearn) (1.21.5)\n",
      "Requirement already satisfied: joblib>=1.1.1 in d:\\anaconda3distribution\\lib\\site-packages (from imbalanced-learn->imblearn) (1.2.0)\n",
      "Requirement already satisfied: scipy>=1.3.2 in d:\\anaconda3distribution\\lib\\site-packages (from imbalanced-learn->imblearn) (1.7.3)\n",
      "Requirement already satisfied: scikit-learn>=1.0.2 in d:\\anaconda3distribution\\lib\\site-packages (from imbalanced-learn->imblearn) (1.0.2)\n",
      "Requirement already satisfied: threadpoolctl>=2.0.0 in d:\\anaconda3distribution\\lib\\site-packages (from imbalanced-learn->imblearn) (2.2.0)\n"
     ]
    }
   ],
   "source": [
    "!pip install imblearn"
   ]
  },
  {
   "cell_type": "code",
   "execution_count": 3,
   "id": "6cedf5b3",
   "metadata": {},
   "outputs": [],
   "source": [
    "df = pd.read_csv('creditcard.csv')"
   ]
  },
  {
   "cell_type": "code",
   "execution_count": 4,
   "id": "26a922ae",
   "metadata": {},
   "outputs": [
    {
     "data": {
      "text/html": [
       "<div>\n",
       "<style scoped>\n",
       "    .dataframe tbody tr th:only-of-type {\n",
       "        vertical-align: middle;\n",
       "    }\n",
       "\n",
       "    .dataframe tbody tr th {\n",
       "        vertical-align: top;\n",
       "    }\n",
       "\n",
       "    .dataframe thead th {\n",
       "        text-align: right;\n",
       "    }\n",
       "</style>\n",
       "<table border=\"1\" class=\"dataframe\">\n",
       "  <thead>\n",
       "    <tr style=\"text-align: right;\">\n",
       "      <th></th>\n",
       "      <th>Time</th>\n",
       "      <th>V1</th>\n",
       "      <th>V2</th>\n",
       "      <th>V3</th>\n",
       "      <th>V4</th>\n",
       "      <th>V5</th>\n",
       "      <th>V6</th>\n",
       "      <th>V7</th>\n",
       "      <th>V8</th>\n",
       "      <th>V9</th>\n",
       "      <th>...</th>\n",
       "      <th>V21</th>\n",
       "      <th>V22</th>\n",
       "      <th>V23</th>\n",
       "      <th>V24</th>\n",
       "      <th>V25</th>\n",
       "      <th>V26</th>\n",
       "      <th>V27</th>\n",
       "      <th>V28</th>\n",
       "      <th>Amount</th>\n",
       "      <th>Class</th>\n",
       "    </tr>\n",
       "  </thead>\n",
       "  <tbody>\n",
       "    <tr>\n",
       "      <th>0</th>\n",
       "      <td>0.0</td>\n",
       "      <td>-1.359807</td>\n",
       "      <td>-0.072781</td>\n",
       "      <td>2.536347</td>\n",
       "      <td>1.378155</td>\n",
       "      <td>-0.338321</td>\n",
       "      <td>0.462388</td>\n",
       "      <td>0.239599</td>\n",
       "      <td>0.098698</td>\n",
       "      <td>0.363787</td>\n",
       "      <td>...</td>\n",
       "      <td>-0.018307</td>\n",
       "      <td>0.277838</td>\n",
       "      <td>-0.110474</td>\n",
       "      <td>0.066928</td>\n",
       "      <td>0.128539</td>\n",
       "      <td>-0.189115</td>\n",
       "      <td>0.133558</td>\n",
       "      <td>-0.021053</td>\n",
       "      <td>149.62</td>\n",
       "      <td>0</td>\n",
       "    </tr>\n",
       "    <tr>\n",
       "      <th>1</th>\n",
       "      <td>0.0</td>\n",
       "      <td>1.191857</td>\n",
       "      <td>0.266151</td>\n",
       "      <td>0.166480</td>\n",
       "      <td>0.448154</td>\n",
       "      <td>0.060018</td>\n",
       "      <td>-0.082361</td>\n",
       "      <td>-0.078803</td>\n",
       "      <td>0.085102</td>\n",
       "      <td>-0.255425</td>\n",
       "      <td>...</td>\n",
       "      <td>-0.225775</td>\n",
       "      <td>-0.638672</td>\n",
       "      <td>0.101288</td>\n",
       "      <td>-0.339846</td>\n",
       "      <td>0.167170</td>\n",
       "      <td>0.125895</td>\n",
       "      <td>-0.008983</td>\n",
       "      <td>0.014724</td>\n",
       "      <td>2.69</td>\n",
       "      <td>0</td>\n",
       "    </tr>\n",
       "    <tr>\n",
       "      <th>2</th>\n",
       "      <td>1.0</td>\n",
       "      <td>-1.358354</td>\n",
       "      <td>-1.340163</td>\n",
       "      <td>1.773209</td>\n",
       "      <td>0.379780</td>\n",
       "      <td>-0.503198</td>\n",
       "      <td>1.800499</td>\n",
       "      <td>0.791461</td>\n",
       "      <td>0.247676</td>\n",
       "      <td>-1.514654</td>\n",
       "      <td>...</td>\n",
       "      <td>0.247998</td>\n",
       "      <td>0.771679</td>\n",
       "      <td>0.909412</td>\n",
       "      <td>-0.689281</td>\n",
       "      <td>-0.327642</td>\n",
       "      <td>-0.139097</td>\n",
       "      <td>-0.055353</td>\n",
       "      <td>-0.059752</td>\n",
       "      <td>378.66</td>\n",
       "      <td>0</td>\n",
       "    </tr>\n",
       "    <tr>\n",
       "      <th>3</th>\n",
       "      <td>1.0</td>\n",
       "      <td>-0.966272</td>\n",
       "      <td>-0.185226</td>\n",
       "      <td>1.792993</td>\n",
       "      <td>-0.863291</td>\n",
       "      <td>-0.010309</td>\n",
       "      <td>1.247203</td>\n",
       "      <td>0.237609</td>\n",
       "      <td>0.377436</td>\n",
       "      <td>-1.387024</td>\n",
       "      <td>...</td>\n",
       "      <td>-0.108300</td>\n",
       "      <td>0.005274</td>\n",
       "      <td>-0.190321</td>\n",
       "      <td>-1.175575</td>\n",
       "      <td>0.647376</td>\n",
       "      <td>-0.221929</td>\n",
       "      <td>0.062723</td>\n",
       "      <td>0.061458</td>\n",
       "      <td>123.50</td>\n",
       "      <td>0</td>\n",
       "    </tr>\n",
       "    <tr>\n",
       "      <th>4</th>\n",
       "      <td>2.0</td>\n",
       "      <td>-1.158233</td>\n",
       "      <td>0.877737</td>\n",
       "      <td>1.548718</td>\n",
       "      <td>0.403034</td>\n",
       "      <td>-0.407193</td>\n",
       "      <td>0.095921</td>\n",
       "      <td>0.592941</td>\n",
       "      <td>-0.270533</td>\n",
       "      <td>0.817739</td>\n",
       "      <td>...</td>\n",
       "      <td>-0.009431</td>\n",
       "      <td>0.798278</td>\n",
       "      <td>-0.137458</td>\n",
       "      <td>0.141267</td>\n",
       "      <td>-0.206010</td>\n",
       "      <td>0.502292</td>\n",
       "      <td>0.219422</td>\n",
       "      <td>0.215153</td>\n",
       "      <td>69.99</td>\n",
       "      <td>0</td>\n",
       "    </tr>\n",
       "  </tbody>\n",
       "</table>\n",
       "<p>5 rows × 31 columns</p>\n",
       "</div>"
      ],
      "text/plain": [
       "   Time        V1        V2        V3        V4        V5        V6        V7  \\\n",
       "0   0.0 -1.359807 -0.072781  2.536347  1.378155 -0.338321  0.462388  0.239599   \n",
       "1   0.0  1.191857  0.266151  0.166480  0.448154  0.060018 -0.082361 -0.078803   \n",
       "2   1.0 -1.358354 -1.340163  1.773209  0.379780 -0.503198  1.800499  0.791461   \n",
       "3   1.0 -0.966272 -0.185226  1.792993 -0.863291 -0.010309  1.247203  0.237609   \n",
       "4   2.0 -1.158233  0.877737  1.548718  0.403034 -0.407193  0.095921  0.592941   \n",
       "\n",
       "         V8        V9  ...       V21       V22       V23       V24       V25  \\\n",
       "0  0.098698  0.363787  ... -0.018307  0.277838 -0.110474  0.066928  0.128539   \n",
       "1  0.085102 -0.255425  ... -0.225775 -0.638672  0.101288 -0.339846  0.167170   \n",
       "2  0.247676 -1.514654  ...  0.247998  0.771679  0.909412 -0.689281 -0.327642   \n",
       "3  0.377436 -1.387024  ... -0.108300  0.005274 -0.190321 -1.175575  0.647376   \n",
       "4 -0.270533  0.817739  ... -0.009431  0.798278 -0.137458  0.141267 -0.206010   \n",
       "\n",
       "        V26       V27       V28  Amount  Class  \n",
       "0 -0.189115  0.133558 -0.021053  149.62      0  \n",
       "1  0.125895 -0.008983  0.014724    2.69      0  \n",
       "2 -0.139097 -0.055353 -0.059752  378.66      0  \n",
       "3 -0.221929  0.062723  0.061458  123.50      0  \n",
       "4  0.502292  0.219422  0.215153   69.99      0  \n",
       "\n",
       "[5 rows x 31 columns]"
      ]
     },
     "execution_count": 4,
     "metadata": {},
     "output_type": "execute_result"
    }
   ],
   "source": [
    "df.head()"
   ]
  },
  {
   "cell_type": "code",
   "execution_count": 5,
   "id": "4c6e87f6",
   "metadata": {},
   "outputs": [
    {
     "data": {
      "text/html": [
       "<div>\n",
       "<style scoped>\n",
       "    .dataframe tbody tr th:only-of-type {\n",
       "        vertical-align: middle;\n",
       "    }\n",
       "\n",
       "    .dataframe tbody tr th {\n",
       "        vertical-align: top;\n",
       "    }\n",
       "\n",
       "    .dataframe thead th {\n",
       "        text-align: right;\n",
       "    }\n",
       "</style>\n",
       "<table border=\"1\" class=\"dataframe\">\n",
       "  <thead>\n",
       "    <tr style=\"text-align: right;\">\n",
       "      <th></th>\n",
       "      <th>Time</th>\n",
       "      <th>V1</th>\n",
       "      <th>V2</th>\n",
       "      <th>V3</th>\n",
       "      <th>V4</th>\n",
       "      <th>V5</th>\n",
       "      <th>V6</th>\n",
       "      <th>V7</th>\n",
       "      <th>V8</th>\n",
       "      <th>V9</th>\n",
       "      <th>...</th>\n",
       "      <th>V21</th>\n",
       "      <th>V22</th>\n",
       "      <th>V23</th>\n",
       "      <th>V24</th>\n",
       "      <th>V25</th>\n",
       "      <th>V26</th>\n",
       "      <th>V27</th>\n",
       "      <th>V28</th>\n",
       "      <th>Amount</th>\n",
       "      <th>Class</th>\n",
       "    </tr>\n",
       "  </thead>\n",
       "  <tbody>\n",
       "    <tr>\n",
       "      <th>count</th>\n",
       "      <td>284807.000000</td>\n",
       "      <td>2.848070e+05</td>\n",
       "      <td>2.848070e+05</td>\n",
       "      <td>2.848070e+05</td>\n",
       "      <td>2.848070e+05</td>\n",
       "      <td>2.848070e+05</td>\n",
       "      <td>2.848070e+05</td>\n",
       "      <td>2.848070e+05</td>\n",
       "      <td>2.848070e+05</td>\n",
       "      <td>2.848070e+05</td>\n",
       "      <td>...</td>\n",
       "      <td>2.848070e+05</td>\n",
       "      <td>2.848070e+05</td>\n",
       "      <td>2.848070e+05</td>\n",
       "      <td>2.848070e+05</td>\n",
       "      <td>2.848070e+05</td>\n",
       "      <td>2.848070e+05</td>\n",
       "      <td>2.848070e+05</td>\n",
       "      <td>2.848070e+05</td>\n",
       "      <td>284807.000000</td>\n",
       "      <td>284807.000000</td>\n",
       "    </tr>\n",
       "    <tr>\n",
       "      <th>mean</th>\n",
       "      <td>94813.859575</td>\n",
       "      <td>3.918649e-15</td>\n",
       "      <td>5.682686e-16</td>\n",
       "      <td>-8.761736e-15</td>\n",
       "      <td>2.811118e-15</td>\n",
       "      <td>-1.552103e-15</td>\n",
       "      <td>2.040130e-15</td>\n",
       "      <td>-1.698953e-15</td>\n",
       "      <td>-1.893285e-16</td>\n",
       "      <td>-3.147640e-15</td>\n",
       "      <td>...</td>\n",
       "      <td>1.473120e-16</td>\n",
       "      <td>8.042109e-16</td>\n",
       "      <td>5.282512e-16</td>\n",
       "      <td>4.456271e-15</td>\n",
       "      <td>1.426896e-15</td>\n",
       "      <td>1.701640e-15</td>\n",
       "      <td>-3.662252e-16</td>\n",
       "      <td>-1.217809e-16</td>\n",
       "      <td>88.349619</td>\n",
       "      <td>0.001727</td>\n",
       "    </tr>\n",
       "    <tr>\n",
       "      <th>std</th>\n",
       "      <td>47488.145955</td>\n",
       "      <td>1.958696e+00</td>\n",
       "      <td>1.651309e+00</td>\n",
       "      <td>1.516255e+00</td>\n",
       "      <td>1.415869e+00</td>\n",
       "      <td>1.380247e+00</td>\n",
       "      <td>1.332271e+00</td>\n",
       "      <td>1.237094e+00</td>\n",
       "      <td>1.194353e+00</td>\n",
       "      <td>1.098632e+00</td>\n",
       "      <td>...</td>\n",
       "      <td>7.345240e-01</td>\n",
       "      <td>7.257016e-01</td>\n",
       "      <td>6.244603e-01</td>\n",
       "      <td>6.056471e-01</td>\n",
       "      <td>5.212781e-01</td>\n",
       "      <td>4.822270e-01</td>\n",
       "      <td>4.036325e-01</td>\n",
       "      <td>3.300833e-01</td>\n",
       "      <td>250.120109</td>\n",
       "      <td>0.041527</td>\n",
       "    </tr>\n",
       "    <tr>\n",
       "      <th>min</th>\n",
       "      <td>0.000000</td>\n",
       "      <td>-5.640751e+01</td>\n",
       "      <td>-7.271573e+01</td>\n",
       "      <td>-4.832559e+01</td>\n",
       "      <td>-5.683171e+00</td>\n",
       "      <td>-1.137433e+02</td>\n",
       "      <td>-2.616051e+01</td>\n",
       "      <td>-4.355724e+01</td>\n",
       "      <td>-7.321672e+01</td>\n",
       "      <td>-1.343407e+01</td>\n",
       "      <td>...</td>\n",
       "      <td>-3.483038e+01</td>\n",
       "      <td>-1.093314e+01</td>\n",
       "      <td>-4.480774e+01</td>\n",
       "      <td>-2.836627e+00</td>\n",
       "      <td>-1.029540e+01</td>\n",
       "      <td>-2.604551e+00</td>\n",
       "      <td>-2.256568e+01</td>\n",
       "      <td>-1.543008e+01</td>\n",
       "      <td>0.000000</td>\n",
       "      <td>0.000000</td>\n",
       "    </tr>\n",
       "    <tr>\n",
       "      <th>25%</th>\n",
       "      <td>54201.500000</td>\n",
       "      <td>-9.203734e-01</td>\n",
       "      <td>-5.985499e-01</td>\n",
       "      <td>-8.903648e-01</td>\n",
       "      <td>-8.486401e-01</td>\n",
       "      <td>-6.915971e-01</td>\n",
       "      <td>-7.682956e-01</td>\n",
       "      <td>-5.540759e-01</td>\n",
       "      <td>-2.086297e-01</td>\n",
       "      <td>-6.430976e-01</td>\n",
       "      <td>...</td>\n",
       "      <td>-2.283949e-01</td>\n",
       "      <td>-5.423504e-01</td>\n",
       "      <td>-1.618463e-01</td>\n",
       "      <td>-3.545861e-01</td>\n",
       "      <td>-3.171451e-01</td>\n",
       "      <td>-3.269839e-01</td>\n",
       "      <td>-7.083953e-02</td>\n",
       "      <td>-5.295979e-02</td>\n",
       "      <td>5.600000</td>\n",
       "      <td>0.000000</td>\n",
       "    </tr>\n",
       "    <tr>\n",
       "      <th>50%</th>\n",
       "      <td>84692.000000</td>\n",
       "      <td>1.810880e-02</td>\n",
       "      <td>6.548556e-02</td>\n",
       "      <td>1.798463e-01</td>\n",
       "      <td>-1.984653e-02</td>\n",
       "      <td>-5.433583e-02</td>\n",
       "      <td>-2.741871e-01</td>\n",
       "      <td>4.010308e-02</td>\n",
       "      <td>2.235804e-02</td>\n",
       "      <td>-5.142873e-02</td>\n",
       "      <td>...</td>\n",
       "      <td>-2.945017e-02</td>\n",
       "      <td>6.781943e-03</td>\n",
       "      <td>-1.119293e-02</td>\n",
       "      <td>4.097606e-02</td>\n",
       "      <td>1.659350e-02</td>\n",
       "      <td>-5.213911e-02</td>\n",
       "      <td>1.342146e-03</td>\n",
       "      <td>1.124383e-02</td>\n",
       "      <td>22.000000</td>\n",
       "      <td>0.000000</td>\n",
       "    </tr>\n",
       "    <tr>\n",
       "      <th>75%</th>\n",
       "      <td>139320.500000</td>\n",
       "      <td>1.315642e+00</td>\n",
       "      <td>8.037239e-01</td>\n",
       "      <td>1.027196e+00</td>\n",
       "      <td>7.433413e-01</td>\n",
       "      <td>6.119264e-01</td>\n",
       "      <td>3.985649e-01</td>\n",
       "      <td>5.704361e-01</td>\n",
       "      <td>3.273459e-01</td>\n",
       "      <td>5.971390e-01</td>\n",
       "      <td>...</td>\n",
       "      <td>1.863772e-01</td>\n",
       "      <td>5.285536e-01</td>\n",
       "      <td>1.476421e-01</td>\n",
       "      <td>4.395266e-01</td>\n",
       "      <td>3.507156e-01</td>\n",
       "      <td>2.409522e-01</td>\n",
       "      <td>9.104512e-02</td>\n",
       "      <td>7.827995e-02</td>\n",
       "      <td>77.165000</td>\n",
       "      <td>0.000000</td>\n",
       "    </tr>\n",
       "    <tr>\n",
       "      <th>max</th>\n",
       "      <td>172792.000000</td>\n",
       "      <td>2.454930e+00</td>\n",
       "      <td>2.205773e+01</td>\n",
       "      <td>9.382558e+00</td>\n",
       "      <td>1.687534e+01</td>\n",
       "      <td>3.480167e+01</td>\n",
       "      <td>7.330163e+01</td>\n",
       "      <td>1.205895e+02</td>\n",
       "      <td>2.000721e+01</td>\n",
       "      <td>1.559499e+01</td>\n",
       "      <td>...</td>\n",
       "      <td>2.720284e+01</td>\n",
       "      <td>1.050309e+01</td>\n",
       "      <td>2.252841e+01</td>\n",
       "      <td>4.584549e+00</td>\n",
       "      <td>7.519589e+00</td>\n",
       "      <td>3.517346e+00</td>\n",
       "      <td>3.161220e+01</td>\n",
       "      <td>3.384781e+01</td>\n",
       "      <td>25691.160000</td>\n",
       "      <td>1.000000</td>\n",
       "    </tr>\n",
       "  </tbody>\n",
       "</table>\n",
       "<p>8 rows × 31 columns</p>\n",
       "</div>"
      ],
      "text/plain": [
       "                Time            V1            V2            V3            V4  \\\n",
       "count  284807.000000  2.848070e+05  2.848070e+05  2.848070e+05  2.848070e+05   \n",
       "mean    94813.859575  3.918649e-15  5.682686e-16 -8.761736e-15  2.811118e-15   \n",
       "std     47488.145955  1.958696e+00  1.651309e+00  1.516255e+00  1.415869e+00   \n",
       "min         0.000000 -5.640751e+01 -7.271573e+01 -4.832559e+01 -5.683171e+00   \n",
       "25%     54201.500000 -9.203734e-01 -5.985499e-01 -8.903648e-01 -8.486401e-01   \n",
       "50%     84692.000000  1.810880e-02  6.548556e-02  1.798463e-01 -1.984653e-02   \n",
       "75%    139320.500000  1.315642e+00  8.037239e-01  1.027196e+00  7.433413e-01   \n",
       "max    172792.000000  2.454930e+00  2.205773e+01  9.382558e+00  1.687534e+01   \n",
       "\n",
       "                 V5            V6            V7            V8            V9  \\\n",
       "count  2.848070e+05  2.848070e+05  2.848070e+05  2.848070e+05  2.848070e+05   \n",
       "mean  -1.552103e-15  2.040130e-15 -1.698953e-15 -1.893285e-16 -3.147640e-15   \n",
       "std    1.380247e+00  1.332271e+00  1.237094e+00  1.194353e+00  1.098632e+00   \n",
       "min   -1.137433e+02 -2.616051e+01 -4.355724e+01 -7.321672e+01 -1.343407e+01   \n",
       "25%   -6.915971e-01 -7.682956e-01 -5.540759e-01 -2.086297e-01 -6.430976e-01   \n",
       "50%   -5.433583e-02 -2.741871e-01  4.010308e-02  2.235804e-02 -5.142873e-02   \n",
       "75%    6.119264e-01  3.985649e-01  5.704361e-01  3.273459e-01  5.971390e-01   \n",
       "max    3.480167e+01  7.330163e+01  1.205895e+02  2.000721e+01  1.559499e+01   \n",
       "\n",
       "       ...           V21           V22           V23           V24  \\\n",
       "count  ...  2.848070e+05  2.848070e+05  2.848070e+05  2.848070e+05   \n",
       "mean   ...  1.473120e-16  8.042109e-16  5.282512e-16  4.456271e-15   \n",
       "std    ...  7.345240e-01  7.257016e-01  6.244603e-01  6.056471e-01   \n",
       "min    ... -3.483038e+01 -1.093314e+01 -4.480774e+01 -2.836627e+00   \n",
       "25%    ... -2.283949e-01 -5.423504e-01 -1.618463e-01 -3.545861e-01   \n",
       "50%    ... -2.945017e-02  6.781943e-03 -1.119293e-02  4.097606e-02   \n",
       "75%    ...  1.863772e-01  5.285536e-01  1.476421e-01  4.395266e-01   \n",
       "max    ...  2.720284e+01  1.050309e+01  2.252841e+01  4.584549e+00   \n",
       "\n",
       "                V25           V26           V27           V28         Amount  \\\n",
       "count  2.848070e+05  2.848070e+05  2.848070e+05  2.848070e+05  284807.000000   \n",
       "mean   1.426896e-15  1.701640e-15 -3.662252e-16 -1.217809e-16      88.349619   \n",
       "std    5.212781e-01  4.822270e-01  4.036325e-01  3.300833e-01     250.120109   \n",
       "min   -1.029540e+01 -2.604551e+00 -2.256568e+01 -1.543008e+01       0.000000   \n",
       "25%   -3.171451e-01 -3.269839e-01 -7.083953e-02 -5.295979e-02       5.600000   \n",
       "50%    1.659350e-02 -5.213911e-02  1.342146e-03  1.124383e-02      22.000000   \n",
       "75%    3.507156e-01  2.409522e-01  9.104512e-02  7.827995e-02      77.165000   \n",
       "max    7.519589e+00  3.517346e+00  3.161220e+01  3.384781e+01   25691.160000   \n",
       "\n",
       "               Class  \n",
       "count  284807.000000  \n",
       "mean        0.001727  \n",
       "std         0.041527  \n",
       "min         0.000000  \n",
       "25%         0.000000  \n",
       "50%         0.000000  \n",
       "75%         0.000000  \n",
       "max         1.000000  \n",
       "\n",
       "[8 rows x 31 columns]"
      ]
     },
     "execution_count": 5,
     "metadata": {},
     "output_type": "execute_result"
    }
   ],
   "source": [
    "df.describe()"
   ]
  },
  {
   "cell_type": "code",
   "execution_count": 6,
   "id": "14661d18",
   "metadata": {},
   "outputs": [
    {
     "data": {
      "text/plain": [
       "(284807, 31)"
      ]
     },
     "execution_count": 6,
     "metadata": {},
     "output_type": "execute_result"
    }
   ],
   "source": [
    "df.shape"
   ]
  },
  {
   "cell_type": "code",
   "execution_count": 7,
   "id": "d9f539eb",
   "metadata": {},
   "outputs": [
    {
     "name": "stdout",
     "output_type": "stream",
     "text": [
      "No. of fraud cases: 0.17 %\n",
      "No. of non-fraud cases: 99.83 %\n"
     ]
    }
   ],
   "source": [
    "print('No. of fraud cases:', round((df[df['Class'] == 1].shape[0]/df.shape[0])*100, 2), '%')\n",
    "print('No. of non-fraud cases:', round((df[df['Class'] == 0].shape[0]/df.shape[0])*100, 2),'%')"
   ]
  },
  {
   "cell_type": "code",
   "execution_count": 8,
   "id": "b71c8e79",
   "metadata": {},
   "outputs": [
    {
     "name": "stderr",
     "output_type": "stream",
     "text": [
      "D:\\Anaconda3distribution\\lib\\site-packages\\seaborn\\_decorators.py:36: FutureWarning: Pass the following variable as a keyword arg: x. From version 0.12, the only valid positional argument will be `data`, and passing other arguments without an explicit keyword will result in an error or misinterpretation.\n",
      "  warnings.warn(\n"
     ]
    },
    {
     "data": {
      "text/plain": [
       "Text(0.5, 1.0, 'Class Distribution \\n (0: No Fraud || 1: Fraud)')"
      ]
     },
     "execution_count": 8,
     "metadata": {},
     "output_type": "execute_result"
    },
    {
     "data": {
      "image/png": "[encoded data removed]",
      "text/plain": [
       "<Figure size 432x288 with 1 Axes>"
      ]
     },
     "metadata": {
      "needs_background": "light"
     },
     "output_type": "display_data"
    }
   ],
   "source": [
    "sns.countplot(df['Class'])\n",
    "plt.title('Class Distribution \\n (0: No Fraud || 1: Fraud)')"
   ]
  },
  {
   "cell_type": "markdown",
   "id": "dff65803",
   "metadata": {},
   "source": [
    "From the above observation, it seems that the data is very imbalanced. As most of the transactions are not fraud."
   ]
  },
  {
   "cell_type": "markdown",
   "id": "feea131e",
   "metadata": {},
   "source": [
    "# Scaling the feature \"Time\" and \"Amount\""
   ]
  },
  {
   "cell_type": "code",
   "execution_count": 9,
   "id": "fe53330b",
   "metadata": {},
   "outputs": [
    {
     "name": "stderr",
     "output_type": "stream",
     "text": [
      "D:\\Anaconda3distribution\\lib\\site-packages\\seaborn\\_decorators.py:36: FutureWarning: Pass the following variable as a keyword arg: x. From version 0.12, the only valid positional argument will be `data`, and passing other arguments without an explicit keyword will result in an error or misinterpretation.\n",
      "  warnings.warn(\n"
     ]
    },
    {
     "data": {
      "text/plain": [
       "<AxesSubplot:xlabel='Time'>"
      ]
     },
     "execution_count": 9,
     "metadata": {},
     "output_type": "execute_result"
    },
    {
     "data": {
      "image/png": "[encoded data removed]",
      "text/plain": [
       "<Figure size 432x288 with 1 Axes>"
      ]
     },
     "metadata": {
      "needs_background": "light"
     },
     "output_type": "display_data"
    }
   ],
   "source": [
    "sns.boxplot(df['Time'])"
   ]
  },
  {
   "cell_type": "code",
   "execution_count": 10,
   "id": "a48f7c02",
   "metadata": {},
   "outputs": [
    {
     "name": "stderr",
     "output_type": "stream",
     "text": [
      "D:\\Anaconda3distribution\\lib\\site-packages\\seaborn\\distributions.py:2619: FutureWarning: `distplot` is a deprecated function and will be removed in a future version. Please adapt your code to use either `displot` (a figure-level function with similar flexibility) or `histplot` (an axes-level function for histograms).\n",
      "  warnings.warn(msg, FutureWarning)\n",
      "D:\\Anaconda3distribution\\lib\\site-packages\\seaborn\\distributions.py:2619: FutureWarning: `distplot` is a deprecated function and will be removed in a future version. Please adapt your code to use either `displot` (a figure-level function with similar flexibility) or `histplot` (an axes-level function for histograms).\n",
      "  warnings.warn(msg, FutureWarning)\n"
     ]
    },
    {
     "data": {
      "image/png": "[encoded data removed]",
      "text/plain": [
       "<Figure size 1008x288 with 2 Axes>"
      ]
     },
     "metadata": {
      "needs_background": "light"
     },
     "output_type": "display_data"
    }
   ],
   "source": [
    "plt.figure(figsize = (14,4))\n",
    "plt.subplot(121)\n",
    "sns.distplot(df['Amount'])\n",
    "plt.title('Distribution of Transaction Amount')\n",
    "\n",
    "plt.subplot(122)\n",
    "sns.distplot(df['Time'])\n",
    "plt.title('Distribution of Transaction Time')\n",
    "\n",
    "plt.show()"
   ]
  },
  {
   "cell_type": "code",
   "execution_count": 11,
   "id": "0a729102",
   "metadata": {},
   "outputs": [
    {
     "name": "stderr",
     "output_type": "stream",
     "text": [
      "D:\\Anaconda3distribution\\lib\\site-packages\\seaborn\\_decorators.py:36: FutureWarning: Pass the following variable as a keyword arg: x. From version 0.12, the only valid positional argument will be `data`, and passing other arguments without an explicit keyword will result in an error or misinterpretation.\n",
      "  warnings.warn(\n"
     ]
    },
    {
     "data": {
      "text/plain": [
       "<AxesSubplot:xlabel='Amount'>"
      ]
     },
     "execution_count": 11,
     "metadata": {},
     "output_type": "execute_result"
    },
    {
     "data": {
      "image/png": "[encoded data removed]",
      "text/plain": [
       "<Figure size 432x288 with 1 Axes>"
      ]
     },
     "metadata": {
      "needs_background": "light"
     },
     "output_type": "display_data"
    }
   ],
   "source": [
    "sns.boxplot(df['Amount'])"
   ]
  },
  {
   "cell_type": "markdown",
   "id": "ff9c6a5a",
   "metadata": {},
   "source": [
    "It can be observed from above box pot that most of the transaction amount is less than or equal to 10000 therefore, the remaining transaction amount would act as outlier for our dataset."
   ]
  },
  {
   "cell_type": "code",
   "execution_count": 12,
   "id": "d74c6af2",
   "metadata": {},
   "outputs": [
    {
     "name": "stderr",
     "output_type": "stream",
     "text": [
      "D:\\Anaconda3distribution\\lib\\site-packages\\seaborn\\_decorators.py:36: FutureWarning: Pass the following variable as a keyword arg: x. From version 0.12, the only valid positional argument will be `data`, and passing other arguments without an explicit keyword will result in an error or misinterpretation.\n",
      "  warnings.warn(\n"
     ]
    },
    {
     "data": {
      "text/plain": [
       "<AxesSubplot:xlabel='Amount'>"
      ]
     },
     "execution_count": 12,
     "metadata": {},
     "output_type": "execute_result"
    },
    {
     "data": {
      "image/png": "[encoded data removed]",
      "text/plain": [
       "<Figure size 432x288 with 1 Axes>"
      ]
     },
     "metadata": {
      "needs_background": "light"
     },
     "output_type": "display_data"
    }
   ],
   "source": [
    "sns.boxplot(df[df['Amount']<=500]['Amount'])"
   ]
  },
  {
   "cell_type": "code",
   "execution_count": 13,
   "id": "afc49708",
   "metadata": {},
   "outputs": [
    {
     "data": {
      "text/plain": [
       "count    284807.000000\n",
       "mean         88.349619\n",
       "std         250.120109\n",
       "min           0.000000\n",
       "25%           5.600000\n",
       "50%          22.000000\n",
       "75%          77.165000\n",
       "max       25691.160000\n",
       "Name: Amount, dtype: float64"
      ]
     },
     "execution_count": 13,
     "metadata": {},
     "output_type": "execute_result"
    }
   ],
   "source": [
    "df['Amount'].describe()"
   ]
  },
  {
   "cell_type": "code",
   "execution_count": 14,
   "id": "577ed696",
   "metadata": {},
   "outputs": [],
   "source": [
    "rs1 = RobustScaler(copy = False)\n",
    "rs2 = RobustScaler(copy = False)"
   ]
  },
  {
   "cell_type": "code",
   "execution_count": 15,
   "id": "32e01e39",
   "metadata": {},
   "outputs": [
    {
     "data": {
      "text/plain": [
       "array([[ 1.78327395],\n",
       "       [-0.26982463],\n",
       "       [ 4.98372109],\n",
       "       ...,\n",
       "       [ 0.64109551],\n",
       "       [-0.16767973],\n",
       "       [ 2.72479564]])"
      ]
     },
     "execution_count": 15,
     "metadata": {},
     "output_type": "execute_result"
    }
   ],
   "source": [
    "rs1.fit_transform(df['Amount'].values.reshape(-1,1))"
   ]
  },
  {
   "cell_type": "code",
   "execution_count": 16,
   "id": "e089c9b8",
   "metadata": {},
   "outputs": [
    {
     "data": {
      "text/plain": [
       "array([[-0.99498349],\n",
       "       [-0.99498349],\n",
       "       [-0.99497175],\n",
       "       ...,\n",
       "       [ 1.03497457],\n",
       "       [ 1.03497457],\n",
       "       [ 1.03502156]])"
      ]
     },
     "execution_count": 16,
     "metadata": {},
     "output_type": "execute_result"
    }
   ],
   "source": [
    "rs2.fit_transform(df['Time'].values.reshape(-1,1))"
   ]
  },
  {
   "cell_type": "code",
   "execution_count": 17,
   "id": "4d239870",
   "metadata": {},
   "outputs": [
    {
     "data": {
      "text/plain": [
       "array([71.565])"
      ]
     },
     "execution_count": 17,
     "metadata": {},
     "output_type": "execute_result"
    }
   ],
   "source": [
    "rs1.scale_"
   ]
  },
  {
   "cell_type": "code",
   "execution_count": 18,
   "id": "878ad968",
   "metadata": {},
   "outputs": [],
   "source": [
    "df.rename(columns={'Time':'scaled_time', 'Amount':'scaled_amount'}, inplace = True)"
   ]
  },
  {
   "cell_type": "code",
   "execution_count": 19,
   "id": "9f8f1f6e",
   "metadata": {},
   "outputs": [
    {
     "data": {
      "text/html": [
       "<div>\n",
       "<style scoped>\n",
       "    .dataframe tbody tr th:only-of-type {\n",
       "        vertical-align: middle;\n",
       "    }\n",
       "\n",
       "    .dataframe tbody tr th {\n",
       "        vertical-align: top;\n",
       "    }\n",
       "\n",
       "    .dataframe thead th {\n",
       "        text-align: right;\n",
       "    }\n",
       "</style>\n",
       "<table border=\"1\" class=\"dataframe\">\n",
       "  <thead>\n",
       "    <tr style=\"text-align: right;\">\n",
       "      <th></th>\n",
       "      <th>scaled_time</th>\n",
       "      <th>V1</th>\n",
       "      <th>V2</th>\n",
       "      <th>V3</th>\n",
       "      <th>V4</th>\n",
       "      <th>V5</th>\n",
       "      <th>V6</th>\n",
       "      <th>V7</th>\n",
       "      <th>V8</th>\n",
       "      <th>V9</th>\n",
       "      <th>...</th>\n",
       "      <th>V21</th>\n",
       "      <th>V22</th>\n",
       "      <th>V23</th>\n",
       "      <th>V24</th>\n",
       "      <th>V25</th>\n",
       "      <th>V26</th>\n",
       "      <th>V27</th>\n",
       "      <th>V28</th>\n",
       "      <th>scaled_amount</th>\n",
       "      <th>Class</th>\n",
       "    </tr>\n",
       "  </thead>\n",
       "  <tbody>\n",
       "    <tr>\n",
       "      <th>0</th>\n",
       "      <td>-0.994983</td>\n",
       "      <td>-1.359807</td>\n",
       "      <td>-0.072781</td>\n",
       "      <td>2.536347</td>\n",
       "      <td>1.378155</td>\n",
       "      <td>-0.338321</td>\n",
       "      <td>0.462388</td>\n",
       "      <td>0.239599</td>\n",
       "      <td>0.098698</td>\n",
       "      <td>0.363787</td>\n",
       "      <td>...</td>\n",
       "      <td>-0.018307</td>\n",
       "      <td>0.277838</td>\n",
       "      <td>-0.110474</td>\n",
       "      <td>0.066928</td>\n",
       "      <td>0.128539</td>\n",
       "      <td>-0.189115</td>\n",
       "      <td>0.133558</td>\n",
       "      <td>-0.021053</td>\n",
       "      <td>1.783274</td>\n",
       "      <td>0</td>\n",
       "    </tr>\n",
       "    <tr>\n",
       "      <th>1</th>\n",
       "      <td>-0.994983</td>\n",
       "      <td>1.191857</td>\n",
       "      <td>0.266151</td>\n",
       "      <td>0.166480</td>\n",
       "      <td>0.448154</td>\n",
       "      <td>0.060018</td>\n",
       "      <td>-0.082361</td>\n",
       "      <td>-0.078803</td>\n",
       "      <td>0.085102</td>\n",
       "      <td>-0.255425</td>\n",
       "      <td>...</td>\n",
       "      <td>-0.225775</td>\n",
       "      <td>-0.638672</td>\n",
       "      <td>0.101288</td>\n",
       "      <td>-0.339846</td>\n",
       "      <td>0.167170</td>\n",
       "      <td>0.125895</td>\n",
       "      <td>-0.008983</td>\n",
       "      <td>0.014724</td>\n",
       "      <td>-0.269825</td>\n",
       "      <td>0</td>\n",
       "    </tr>\n",
       "    <tr>\n",
       "      <th>2</th>\n",
       "      <td>-0.994972</td>\n",
       "      <td>-1.358354</td>\n",
       "      <td>-1.340163</td>\n",
       "      <td>1.773209</td>\n",
       "      <td>0.379780</td>\n",
       "      <td>-0.503198</td>\n",
       "      <td>1.800499</td>\n",
       "      <td>0.791461</td>\n",
       "      <td>0.247676</td>\n",
       "      <td>-1.514654</td>\n",
       "      <td>...</td>\n",
       "      <td>0.247998</td>\n",
       "      <td>0.771679</td>\n",
       "      <td>0.909412</td>\n",
       "      <td>-0.689281</td>\n",
       "      <td>-0.327642</td>\n",
       "      <td>-0.139097</td>\n",
       "      <td>-0.055353</td>\n",
       "      <td>-0.059752</td>\n",
       "      <td>4.983721</td>\n",
       "      <td>0</td>\n",
       "    </tr>\n",
       "    <tr>\n",
       "      <th>3</th>\n",
       "      <td>-0.994972</td>\n",
       "      <td>-0.966272</td>\n",
       "      <td>-0.185226</td>\n",
       "      <td>1.792993</td>\n",
       "      <td>-0.863291</td>\n",
       "      <td>-0.010309</td>\n",
       "      <td>1.247203</td>\n",
       "      <td>0.237609</td>\n",
       "      <td>0.377436</td>\n",
       "      <td>-1.387024</td>\n",
       "      <td>...</td>\n",
       "      <td>-0.108300</td>\n",
       "      <td>0.005274</td>\n",
       "      <td>-0.190321</td>\n",
       "      <td>-1.175575</td>\n",
       "      <td>0.647376</td>\n",
       "      <td>-0.221929</td>\n",
       "      <td>0.062723</td>\n",
       "      <td>0.061458</td>\n",
       "      <td>1.418291</td>\n",
       "      <td>0</td>\n",
       "    </tr>\n",
       "    <tr>\n",
       "      <th>4</th>\n",
       "      <td>-0.994960</td>\n",
       "      <td>-1.158233</td>\n",
       "      <td>0.877737</td>\n",
       "      <td>1.548718</td>\n",
       "      <td>0.403034</td>\n",
       "      <td>-0.407193</td>\n",
       "      <td>0.095921</td>\n",
       "      <td>0.592941</td>\n",
       "      <td>-0.270533</td>\n",
       "      <td>0.817739</td>\n",
       "      <td>...</td>\n",
       "      <td>-0.009431</td>\n",
       "      <td>0.798278</td>\n",
       "      <td>-0.137458</td>\n",
       "      <td>0.141267</td>\n",
       "      <td>-0.206010</td>\n",
       "      <td>0.502292</td>\n",
       "      <td>0.219422</td>\n",
       "      <td>0.215153</td>\n",
       "      <td>0.670579</td>\n",
       "      <td>0</td>\n",
       "    </tr>\n",
       "  </tbody>\n",
       "</table>\n",
       "<p>5 rows × 31 columns</p>\n",
       "</div>"
      ],
      "text/plain": [
       "   scaled_time        V1        V2        V3        V4        V5        V6  \\\n",
       "0    -0.994983 -1.359807 -0.072781  2.536347  1.378155 -0.338321  0.462388   \n",
       "1    -0.994983  1.191857  0.266151  0.166480  0.448154  0.060018 -0.082361   \n",
       "2    -0.994972 -1.358354 -1.340163  1.773209  0.379780 -0.503198  1.800499   \n",
       "3    -0.994972 -0.966272 -0.185226  1.792993 -0.863291 -0.010309  1.247203   \n",
       "4    -0.994960 -1.158233  0.877737  1.548718  0.403034 -0.407193  0.095921   \n",
       "\n",
       "         V7        V8        V9  ...       V21       V22       V23       V24  \\\n",
       "0  0.239599  0.098698  0.363787  ... -0.018307  0.277838 -0.110474  0.066928   \n",
       "1 -0.078803  0.085102 -0.255425  ... -0.225775 -0.638672  0.101288 -0.339846   \n",
       "2  0.791461  0.247676 -1.514654  ...  0.247998  0.771679  0.909412 -0.689281   \n",
       "3  0.237609  0.377436 -1.387024  ... -0.108300  0.005274 -0.190321 -1.175575   \n",
       "4  0.592941 -0.270533  0.817739  ... -0.009431  0.798278 -0.137458  0.141267   \n",
       "\n",
       "        V25       V26       V27       V28  scaled_amount  Class  \n",
       "0  0.128539 -0.189115  0.133558 -0.021053       1.783274      0  \n",
       "1  0.167170  0.125895 -0.008983  0.014724      -0.269825      0  \n",
       "2 -0.327642 -0.139097 -0.055353 -0.059752       4.983721      0  \n",
       "3  0.647376 -0.221929  0.062723  0.061458       1.418291      0  \n",
       "4 -0.206010  0.502292  0.219422  0.215153       0.670579      0  \n",
       "\n",
       "[5 rows x 31 columns]"
      ]
     },
     "execution_count": 19,
     "metadata": {},
     "output_type": "execute_result"
    }
   ],
   "source": [
    "df.head()"
   ]
  },
  {
   "cell_type": "code",
   "execution_count": 20,
   "id": "10001fe4",
   "metadata": {},
   "outputs": [
    {
     "name": "stderr",
     "output_type": "stream",
     "text": [
      "D:\\Anaconda3distribution\\lib\\site-packages\\seaborn\\_decorators.py:36: FutureWarning: Pass the following variable as a keyword arg: x. From version 0.12, the only valid positional argument will be `data`, and passing other arguments without an explicit keyword will result in an error or misinterpretation.\n",
      "  warnings.warn(\n",
      "D:\\Anaconda3distribution\\lib\\site-packages\\seaborn\\_decorators.py:36: FutureWarning: Pass the following variable as a keyword arg: x. From version 0.12, the only valid positional argument will be `data`, and passing other arguments without an explicit keyword will result in an error or misinterpretation.\n",
      "  warnings.warn(\n"
     ]
    },
    {
     "data": {
      "image/png": "[encoded data removed]",
      "text/plain": [
       "<Figure size 1008x288 with 2 Axes>"
      ]
     },
     "metadata": {
      "needs_background": "light"
     },
     "output_type": "display_data"
    }
   ],
   "source": [
    "plt.figure(figsize = (14,4))\n",
    "plt.subplot(121)\n",
    "sns.boxplot(df['scaled_amount'])\n",
    "plt.title('Boxplot of Transaction Amount')\n",
    "\n",
    "plt.subplot(122)\n",
    "sns.boxplot(df['scaled_time'])\n",
    "plt.title('Boxplot of Transaction Time')\n",
    "\n",
    "plt.show()"
   ]
  },
  {
   "cell_type": "code",
   "execution_count": 21,
   "id": "38737351",
   "metadata": {},
   "outputs": [
    {
     "data": {
      "text/html": [
       "<div>\n",
       "<style scoped>\n",
       "    .dataframe tbody tr th:only-of-type {\n",
       "        vertical-align: middle;\n",
       "    }\n",
       "\n",
       "    .dataframe tbody tr th {\n",
       "        vertical-align: top;\n",
       "    }\n",
       "\n",
       "    .dataframe thead th {\n",
       "        text-align: right;\n",
       "    }\n",
       "</style>\n",
       "<table border=\"1\" class=\"dataframe\">\n",
       "  <thead>\n",
       "    <tr style=\"text-align: right;\">\n",
       "      <th></th>\n",
       "      <th>scaled_time</th>\n",
       "      <th>V1</th>\n",
       "      <th>V2</th>\n",
       "      <th>V3</th>\n",
       "      <th>V4</th>\n",
       "      <th>V5</th>\n",
       "      <th>V6</th>\n",
       "      <th>V7</th>\n",
       "      <th>V8</th>\n",
       "      <th>V9</th>\n",
       "      <th>...</th>\n",
       "      <th>V21</th>\n",
       "      <th>V22</th>\n",
       "      <th>V23</th>\n",
       "      <th>V24</th>\n",
       "      <th>V25</th>\n",
       "      <th>V26</th>\n",
       "      <th>V27</th>\n",
       "      <th>V28</th>\n",
       "      <th>scaled_amount</th>\n",
       "      <th>Class</th>\n",
       "    </tr>\n",
       "  </thead>\n",
       "  <tbody>\n",
       "    <tr>\n",
       "      <th>141523</th>\n",
       "      <td>-0.003736</td>\n",
       "      <td>1.162478</td>\n",
       "      <td>-0.323132</td>\n",
       "      <td>1.142739</td>\n",
       "      <td>0.254553</td>\n",
       "      <td>-1.080180</td>\n",
       "      <td>-0.335975</td>\n",
       "      <td>-0.510212</td>\n",
       "      <td>-0.042233</td>\n",
       "      <td>0.962822</td>\n",
       "      <td>...</td>\n",
       "      <td>-0.200180</td>\n",
       "      <td>-0.297622</td>\n",
       "      <td>0.037816</td>\n",
       "      <td>0.511550</td>\n",
       "      <td>0.181088</td>\n",
       "      <td>0.934369</td>\n",
       "      <td>-0.028313</td>\n",
       "      <td>0.022323</td>\n",
       "      <td>0.176902</td>\n",
       "      <td>0</td>\n",
       "    </tr>\n",
       "    <tr>\n",
       "      <th>104087</th>\n",
       "      <td>-0.185458</td>\n",
       "      <td>-1.138445</td>\n",
       "      <td>1.241035</td>\n",
       "      <td>0.903534</td>\n",
       "      <td>-1.266007</td>\n",
       "      <td>-0.791714</td>\n",
       "      <td>-1.211816</td>\n",
       "      <td>0.064942</td>\n",
       "      <td>0.477080</td>\n",
       "      <td>0.504105</td>\n",
       "      <td>...</td>\n",
       "      <td>-0.138843</td>\n",
       "      <td>-0.415166</td>\n",
       "      <td>0.061912</td>\n",
       "      <td>0.383336</td>\n",
       "      <td>-0.171000</td>\n",
       "      <td>0.738440</td>\n",
       "      <td>0.253617</td>\n",
       "      <td>0.121924</td>\n",
       "      <td>-0.287012</td>\n",
       "      <td>0</td>\n",
       "    </tr>\n",
       "    <tr>\n",
       "      <th>715</th>\n",
       "      <td>-0.988651</td>\n",
       "      <td>-1.054584</td>\n",
       "      <td>0.671513</td>\n",
       "      <td>2.106718</td>\n",
       "      <td>-0.591701</td>\n",
       "      <td>0.228368</td>\n",
       "      <td>-0.053748</td>\n",
       "      <td>0.941606</td>\n",
       "      <td>-0.191062</td>\n",
       "      <td>0.267565</td>\n",
       "      <td>...</td>\n",
       "      <td>-0.049688</td>\n",
       "      <td>0.137518</td>\n",
       "      <td>-0.420259</td>\n",
       "      <td>0.130488</td>\n",
       "      <td>0.482469</td>\n",
       "      <td>0.394143</td>\n",
       "      <td>-0.409756</td>\n",
       "      <td>-0.179564</td>\n",
       "      <td>0.190596</td>\n",
       "      <td>0</td>\n",
       "    </tr>\n",
       "    <tr>\n",
       "      <th>34226</th>\n",
       "      <td>-0.553601</td>\n",
       "      <td>1.264753</td>\n",
       "      <td>0.119746</td>\n",
       "      <td>-0.082937</td>\n",
       "      <td>0.397281</td>\n",
       "      <td>-0.077492</td>\n",
       "      <td>-0.299664</td>\n",
       "      <td>-0.167209</td>\n",
       "      <td>0.113286</td>\n",
       "      <td>0.139851</td>\n",
       "      <td>...</td>\n",
       "      <td>-0.313695</td>\n",
       "      <td>-1.045839</td>\n",
       "      <td>0.030589</td>\n",
       "      <td>-0.630899</td>\n",
       "      <td>0.231141</td>\n",
       "      <td>0.137025</td>\n",
       "      <td>-0.042126</td>\n",
       "      <td>0.008224</td>\n",
       "      <td>-0.223713</td>\n",
       "      <td>0</td>\n",
       "    </tr>\n",
       "    <tr>\n",
       "      <th>261621</th>\n",
       "      <td>0.885983</td>\n",
       "      <td>-7.234163</td>\n",
       "      <td>5.737921</td>\n",
       "      <td>-1.601616</td>\n",
       "      <td>-1.707583</td>\n",
       "      <td>-3.151085</td>\n",
       "      <td>2.339820</td>\n",
       "      <td>-6.723930</td>\n",
       "      <td>-16.157835</td>\n",
       "      <td>1.878117</td>\n",
       "      <td>...</td>\n",
       "      <td>17.299894</td>\n",
       "      <td>-4.441116</td>\n",
       "      <td>2.504477</td>\n",
       "      <td>0.745714</td>\n",
       "      <td>-0.047936</td>\n",
       "      <td>0.886617</td>\n",
       "      <td>0.405573</td>\n",
       "      <td>0.170358</td>\n",
       "      <td>0.235171</td>\n",
       "      <td>0</td>\n",
       "    </tr>\n",
       "    <tr>\n",
       "      <th>...</th>\n",
       "      <td>...</td>\n",
       "      <td>...</td>\n",
       "      <td>...</td>\n",
       "      <td>...</td>\n",
       "      <td>...</td>\n",
       "      <td>...</td>\n",
       "      <td>...</td>\n",
       "      <td>...</td>\n",
       "      <td>...</td>\n",
       "      <td>...</td>\n",
       "      <td>...</td>\n",
       "      <td>...</td>\n",
       "      <td>...</td>\n",
       "      <td>...</td>\n",
       "      <td>...</td>\n",
       "      <td>...</td>\n",
       "      <td>...</td>\n",
       "      <td>...</td>\n",
       "      <td>...</td>\n",
       "      <td>...</td>\n",
       "      <td>...</td>\n",
       "    </tr>\n",
       "    <tr>\n",
       "      <th>221296</th>\n",
       "      <td>0.679296</td>\n",
       "      <td>-1.527974</td>\n",
       "      <td>-0.486772</td>\n",
       "      <td>-0.698219</td>\n",
       "      <td>-0.665704</td>\n",
       "      <td>1.927465</td>\n",
       "      <td>1.427694</td>\n",
       "      <td>-0.222840</td>\n",
       "      <td>1.184190</td>\n",
       "      <td>-0.320311</td>\n",
       "      <td>...</td>\n",
       "      <td>0.662527</td>\n",
       "      <td>1.553269</td>\n",
       "      <td>0.039043</td>\n",
       "      <td>-1.031454</td>\n",
       "      <td>-0.664914</td>\n",
       "      <td>0.572290</td>\n",
       "      <td>0.324722</td>\n",
       "      <td>0.013813</td>\n",
       "      <td>0.656746</td>\n",
       "      <td>0</td>\n",
       "    </tr>\n",
       "    <tr>\n",
       "      <th>153359</th>\n",
       "      <td>0.164758</td>\n",
       "      <td>1.957094</td>\n",
       "      <td>0.831436</td>\n",
       "      <td>-0.610784</td>\n",
       "      <td>3.927898</td>\n",
       "      <td>0.562230</td>\n",
       "      <td>-0.459750</td>\n",
       "      <td>0.298067</td>\n",
       "      <td>-0.360377</td>\n",
       "      <td>0.036536</td>\n",
       "      <td>...</td>\n",
       "      <td>0.085905</td>\n",
       "      <td>0.550786</td>\n",
       "      <td>0.067711</td>\n",
       "      <td>-0.004693</td>\n",
       "      <td>0.128466</td>\n",
       "      <td>0.088782</td>\n",
       "      <td>-0.067378</td>\n",
       "      <td>-0.057049</td>\n",
       "      <td>-0.275554</td>\n",
       "      <td>0</td>\n",
       "    </tr>\n",
       "    <tr>\n",
       "      <th>232743</th>\n",
       "      <td>0.735382</td>\n",
       "      <td>-1.076028</td>\n",
       "      <td>0.472633</td>\n",
       "      <td>-0.416346</td>\n",
       "      <td>-1.221650</td>\n",
       "      <td>0.245856</td>\n",
       "      <td>1.223664</td>\n",
       "      <td>-0.621333</td>\n",
       "      <td>1.230523</td>\n",
       "      <td>-1.568286</td>\n",
       "      <td>...</td>\n",
       "      <td>0.036956</td>\n",
       "      <td>0.539214</td>\n",
       "      <td>-0.235961</td>\n",
       "      <td>-1.592622</td>\n",
       "      <td>-0.243148</td>\n",
       "      <td>0.873607</td>\n",
       "      <td>-0.214145</td>\n",
       "      <td>-0.039775</td>\n",
       "      <td>-0.293440</td>\n",
       "      <td>0</td>\n",
       "    </tr>\n",
       "    <tr>\n",
       "      <th>59685</th>\n",
       "      <td>-0.419812</td>\n",
       "      <td>-1.461473</td>\n",
       "      <td>1.713567</td>\n",
       "      <td>0.500557</td>\n",
       "      <td>1.186686</td>\n",
       "      <td>-0.589178</td>\n",
       "      <td>-1.331006</td>\n",
       "      <td>0.322875</td>\n",
       "      <td>0.561309</td>\n",
       "      <td>-1.031878</td>\n",
       "      <td>...</td>\n",
       "      <td>-0.158040</td>\n",
       "      <td>-0.735525</td>\n",
       "      <td>0.156958</td>\n",
       "      <td>0.878969</td>\n",
       "      <td>-0.551603</td>\n",
       "      <td>-0.773168</td>\n",
       "      <td>-0.076065</td>\n",
       "      <td>0.046133</td>\n",
       "      <td>0.004611</td>\n",
       "      <td>0</td>\n",
       "    </tr>\n",
       "    <tr>\n",
       "      <th>249406</th>\n",
       "      <td>0.818865</td>\n",
       "      <td>-0.064087</td>\n",
       "      <td>0.614670</td>\n",
       "      <td>-0.791696</td>\n",
       "      <td>0.015019</td>\n",
       "      <td>1.219754</td>\n",
       "      <td>-0.170103</td>\n",
       "      <td>1.483726</td>\n",
       "      <td>-0.267572</td>\n",
       "      <td>-0.586374</td>\n",
       "      <td>...</td>\n",
       "      <td>0.601980</td>\n",
       "      <td>1.774365</td>\n",
       "      <td>-0.424607</td>\n",
       "      <td>0.146061</td>\n",
       "      <td>0.336195</td>\n",
       "      <td>1.041898</td>\n",
       "      <td>0.077726</td>\n",
       "      <td>0.161120</td>\n",
       "      <td>0.911759</td>\n",
       "      <td>0</td>\n",
       "    </tr>\n",
       "  </tbody>\n",
       "</table>\n",
       "<p>284807 rows × 31 columns</p>\n",
       "</div>"
      ],
      "text/plain": [
       "        scaled_time        V1        V2        V3        V4        V5  \\\n",
       "141523    -0.003736  1.162478 -0.323132  1.142739  0.254553 -1.080180   \n",
       "104087    -0.185458 -1.138445  1.241035  0.903534 -1.266007 -0.791714   \n",
       "715       -0.988651 -1.054584  0.671513  2.106718 -0.591701  0.228368   \n",
       "34226     -0.553601  1.264753  0.119746 -0.082937  0.397281 -0.077492   \n",
       "261621     0.885983 -7.234163  5.737921 -1.601616 -1.707583 -3.151085   \n",
       "...             ...       ...       ...       ...       ...       ...   \n",
       "221296     0.679296 -1.527974 -0.486772 -0.698219 -0.665704  1.927465   \n",
       "153359     0.164758  1.957094  0.831436 -0.610784  3.927898  0.562230   \n",
       "232743     0.735382 -1.076028  0.472633 -0.416346 -1.221650  0.245856   \n",
       "59685     -0.419812 -1.461473  1.713567  0.500557  1.186686 -0.589178   \n",
       "249406     0.818865 -0.064087  0.614670 -0.791696  0.015019  1.219754   \n",
       "\n",
       "              V6        V7         V8        V9  ...        V21       V22  \\\n",
       "141523 -0.335975 -0.510212  -0.042233  0.962822  ...  -0.200180 -0.297622   \n",
       "104087 -1.211816  0.064942   0.477080  0.504105  ...  -0.138843 -0.415166   \n",
       "715    -0.053748  0.941606  -0.191062  0.267565  ...  -0.049688  0.137518   \n",
       "34226  -0.299664 -0.167209   0.113286  0.139851  ...  -0.313695 -1.045839   \n",
       "261621  2.339820 -6.723930 -16.157835  1.878117  ...  17.299894 -4.441116   \n",
       "...          ...       ...        ...       ...  ...        ...       ...   \n",
       "221296  1.427694 -0.222840   1.184190 -0.320311  ...   0.662527  1.553269   \n",
       "153359 -0.459750  0.298067  -0.360377  0.036536  ...   0.085905  0.550786   \n",
       "232743  1.223664 -0.621333   1.230523 -1.568286  ...   0.036956  0.539214   \n",
       "59685  -1.331006  0.322875   0.561309 -1.031878  ...  -0.158040 -0.735525   \n",
       "249406 -0.170103  1.483726  -0.267572 -0.586374  ...   0.601980  1.774365   \n",
       "\n",
       "             V23       V24       V25       V26       V27       V28  \\\n",
       "141523  0.037816  0.511550  0.181088  0.934369 -0.028313  0.022323   \n",
       "104087  0.061912  0.383336 -0.171000  0.738440  0.253617  0.121924   \n",
       "715    -0.420259  0.130488  0.482469  0.394143 -0.409756 -0.179564   \n",
       "34226   0.030589 -0.630899  0.231141  0.137025 -0.042126  0.008224   \n",
       "261621  2.504477  0.745714 -0.047936  0.886617  0.405573  0.170358   \n",
       "...          ...       ...       ...       ...       ...       ...   \n",
       "221296  0.039043 -1.031454 -0.664914  0.572290  0.324722  0.013813   \n",
       "153359  0.067711 -0.004693  0.128466  0.088782 -0.067378 -0.057049   \n",
       "232743 -0.235961 -1.592622 -0.243148  0.873607 -0.214145 -0.039775   \n",
       "59685   0.156958  0.878969 -0.551603 -0.773168 -0.076065  0.046133   \n",
       "249406 -0.424607  0.146061  0.336195  1.041898  0.077726  0.161120   \n",
       "\n",
       "        scaled_amount  Class  \n",
       "141523       0.176902      0  \n",
       "104087      -0.287012      0  \n",
       "715          0.190596      0  \n",
       "34226       -0.223713      0  \n",
       "261621       0.235171      0  \n",
       "...               ...    ...  \n",
       "221296       0.656746      0  \n",
       "153359      -0.275554      0  \n",
       "232743      -0.293440      0  \n",
       "59685        0.004611      0  \n",
       "249406       0.911759      0  \n",
       "\n",
       "[284807 rows x 31 columns]"
      ]
     },
     "execution_count": 21,
     "metadata": {},
     "output_type": "execute_result"
    }
   ],
   "source": [
    "df.sample(frac=1)"
   ]
  },
  {
   "cell_type": "code",
   "execution_count": 22,
   "id": "415596d2",
   "metadata": {},
   "outputs": [
    {
     "data": {
      "text/plain": [
       "(492, 31)"
      ]
     },
     "execution_count": 22,
     "metadata": {},
     "output_type": "execute_result"
    }
   ],
   "source": [
    "df[df['Class']==1].shape"
   ]
  },
  {
   "cell_type": "markdown",
   "id": "7605f5d5",
   "metadata": {},
   "source": [
    "<h2>Splitting the Data (Original DataFrame i.e, df)</h2>\n",
    "\n",
    "\n",
    "<b>Although we are splitting the data when implementing Random UnderSampling or OverSampling techniques, we want to test our models on the original testing set not on the testing set created by either of these techniques.</b> The main goal is to fit the model either with the dataframes that were undersample and oversample (in order for our models to detect the patterns), and test it on the original testing set."
   ]
  },
  {
   "cell_type": "code",
   "execution_count": 23,
   "id": "2854a42a",
   "metadata": {},
   "outputs": [
    {
     "name": "stdout",
     "output_type": "stream",
     "text": [
      "Train: [ 30473  30496  31002 ... 284804 284805 284806] Test: [    0     1     2 ... 57017 57018 57019]\n",
      "Train: [     0      1      2 ... 284804 284805 284806] Test: [ 30473  30496  31002 ... 113964 113965 113966]\n",
      "Train: [     0      1      2 ... 284804 284805 284806] Test: [ 81609  82400  83053 ... 170946 170947 170948]\n",
      "Train: [     0      1      2 ... 284804 284805 284806] Test: [150654 150660 150661 ... 227866 227867 227868]\n",
      "Train: [     0      1      2 ... 227866 227867 227868] Test: [212516 212644 213092 ... 284804 284805 284806]\n",
      "Label Distribution: \n",
      "\n",
      "[0.99827076 0.00172924]\n",
      "[0.99827952 0.00172048]\n"
     ]
    }
   ],
   "source": [
    "X = df.drop(columns='Class')\n",
    "y = df['Class']\n",
    "\n",
    "sss = StratifiedKFold(n_splits=5, shuffle=False, random_state=None)\n",
    "\n",
    "for train_index, test_index in sss.split(X, y):\n",
    "    print(\"Train:\", train_index,\"Test:\", test_index)\n",
    "    original_Xtrain, original_Xtest = X.iloc[train_index], X.iloc[test_index]\n",
    "    original_ytrain, original_ytest = y.iloc[train_index], y.iloc[test_index]\n",
    "    \n",
    "\n",
    "original_Xtrain = original_Xtrain.values\n",
    "original_Xtest = original_Xtest.values\n",
    "original_ytrain = original_ytrain.values\n",
    "original_ytest = original_ytest.values\n",
    "\n",
    "train_unique_label, train_counts_label = np.unique(original_ytrain, return_counts=True)\n",
    "test_unique_label, test_counts_label = np.unique(original_ytest, return_counts=True)\n",
    "\n",
    "print('Label Distribution: \\n')\n",
    "print(train_counts_label/len(original_ytrain))\n",
    "print(test_counts_label/len(original_ytest))"
   ]
  },
  {
   "cell_type": "markdown",
   "id": "9b22a61b",
   "metadata": {},
   "source": [
    "# Random Undersampling"
   ]
  },
  {
   "cell_type": "code",
   "execution_count": 24,
   "id": "b1b3cb98",
   "metadata": {},
   "outputs": [],
   "source": [
    "df1 = pd.concat([df[df['Class']==0].sample(frac=1).iloc[:492], df[df['Class']==1]]).sample(frac=1, random_state=42) "
   ]
  },
  {
   "cell_type": "code",
   "execution_count": 25,
   "id": "2f014a73",
   "metadata": {},
   "outputs": [
    {
     "data": {
      "text/plain": [
       "(984, 31)"
      ]
     },
     "execution_count": 25,
     "metadata": {},
     "output_type": "execute_result"
    }
   ],
   "source": [
    "df1.shape"
   ]
  },
  {
   "cell_type": "markdown",
   "id": "6fdd2a06",
   "metadata": {},
   "source": [
    "# Equal Distributing and Correlating"
   ]
  },
  {
   "cell_type": "code",
   "execution_count": 26,
   "id": "ff4b5e31",
   "metadata": {},
   "outputs": [
    {
     "name": "stdout",
     "output_type": "stream",
     "text": [
      "No. of fraud cases: 50.0 %\n",
      "No. of non-fraud cases: 50.0 %\n"
     ]
    },
    {
     "name": "stderr",
     "output_type": "stream",
     "text": [
      "D:\\Anaconda3distribution\\lib\\site-packages\\seaborn\\_decorators.py:36: FutureWarning: Pass the following variable as a keyword arg: x. From version 0.12, the only valid positional argument will be `data`, and passing other arguments without an explicit keyword will result in an error or misinterpretation.\n",
      "  warnings.warn(\n"
     ]
    },
    {
     "data": {
      "image/png": "[encoded data removed]",
      "text/plain": [
       "<Figure size 432x288 with 1 Axes>"
      ]
     },
     "metadata": {
      "needs_background": "light"
     },
     "output_type": "display_data"
    }
   ],
   "source": [
    "sns.countplot(df1['Class'])\n",
    "plt.title('Class Distribution \\n (0: No Fraud || 1: Fraud)')\n",
    "\n",
    "print('No. of fraud cases:', round((df1[df1['Class'] == 1].shape[0]/df1.shape[0])*100, 2), '%')\n",
    "print('No. of non-fraud cases:', round((df1[df1['Class'] == 0].shape[0]/df1.shape[0])*100, 2),'%')"
   ]
  },
  {
   "cell_type": "code",
   "execution_count": 27,
   "id": "521662c2",
   "metadata": {},
   "outputs": [
    {
     "data": {
      "image/png": "[encoded data removed]",
      "text/plain": [
       "<Figure size 1728x1440 with 4 Axes>"
      ]
     },
     "metadata": {
      "needs_background": "light"
     },
     "output_type": "display_data"
    }
   ],
   "source": [
    "f, (ax1, ax2) = plt.subplots(2, 1, figsize = (24,20))\n",
    "\n",
    "corr = df.corr()\n",
    "sns.heatmap(corr, cmap='coolwarm_r', annot_kws={'size':20}, ax=ax1)\n",
    "ax1.set_title(\"Imbalanced Correlation Matrix for original dataset\", fontsize=14)\n",
    "\n",
    "corr1 = df1.corr()\n",
    "sns.heatmap(corr1, cmap='coolwarm_r', annot_kws={'size':20}, ax=ax2)\n",
    "ax1.set_title(\"Imbalanced Correlation Matrix for balanced dataset\", fontsize=14)\n",
    "\n",
    "plt.show()"
   ]
  },
  {
   "cell_type": "markdown",
   "id": "2020ff33",
   "metadata": {},
   "source": [
    "<ul>\n",
    "    <li>V10, V12, V14, V16 - are negatively correlated</li>\n",
    "    <li>V2, V4, V11, V19 - are positively correlated</li>\n",
    "</ul>"
   ]
  },
  {
   "cell_type": "code",
   "execution_count": 28,
   "id": "8639f499",
   "metadata": {},
   "outputs": [
    {
     "data": {
      "image/png": "[encoded data removed]",
      "text/plain": [
       "<Figure size 720x576 with 4 Axes>"
      ]
     },
     "metadata": {
      "needs_background": "light"
     },
     "output_type": "display_data"
    },
    {
     "name": "stdout",
     "output_type": "stream",
     "text": [
      "The lower is the value of these features, more likely is the fraud transaction\n"
     ]
    }
   ],
   "source": [
    "f, axes = plt.subplots(2,2,  figsize=(10,8))\n",
    "\n",
    "plt.subplots_adjust(hspace = 0.4)\n",
    "\n",
    "sns.boxplot(x=\"Class\", y = \"V10\", data = df1, ax = axes[0][0])\n",
    "axes[0][0].set_title(\"V10 vs Class \\n (having negative correlation)\")\n",
    "\n",
    "sns.boxplot(x=\"Class\", y = \"V12\", data = df1, ax = axes[0][1])\n",
    "axes[0][1].set_title(\"V12 vs Class \\n (having negative correlation)\")\n",
    "\n",
    "sns.boxplot(x=\"Class\", y = \"V14\", data = df1, ax = axes[1][0])\n",
    "axes[1][0].set_title(\"V14 vs Class \\n (having negative correlation)\")\n",
    "\n",
    "sns.boxplot(x=\"Class\", y = \"V16\", data = df1, ax = axes[1][1])\n",
    "axes[1][1].set_title(\"V16 vs Class \\n (having negative correlation)\")\n",
    "\n",
    "plt.show()\n",
    "\n",
    "print(\"The lower is the value of these features, more likely is the fraud transaction\")"
   ]
  },
  {
   "cell_type": "code",
   "execution_count": 29,
   "id": "9e118a86",
   "metadata": {},
   "outputs": [
    {
     "data": {
      "image/png": "[encoded data removed]",
      "text/plain": [
       "<Figure size 720x576 with 4 Axes>"
      ]
     },
     "metadata": {
      "needs_background": "light"
     },
     "output_type": "display_data"
    },
    {
     "name": "stdout",
     "output_type": "stream",
     "text": [
      "The higher is the value of these features, more likely is the non fraud transaction\n"
     ]
    }
   ],
   "source": [
    "f, axes = plt.subplots(2,2,  figsize=(10,8))\n",
    "\n",
    "plt.subplots_adjust(hspace = 0.4)\n",
    "\n",
    "sns.boxplot(x=\"Class\", y = \"V2\", data = df1, ax = axes[0][0])\n",
    "axes[0][0].set_title(\"V2 vs Class \\n (having positive correlation)\")\n",
    "\n",
    "sns.boxplot(x=\"Class\", y = \"V4\", data = df1, ax = axes[0][1])\n",
    "axes[0][1].set_title(\"V4 vs Class \\n (having positive correlation)\")\n",
    "\n",
    "sns.boxplot(x=\"Class\", y = \"V11\", data = df1, ax = axes[1][0])\n",
    "axes[1][0].set_title(\"V11 vs Class \\n (having positive correlation)\")\n",
    "\n",
    "sns.boxplot(x=\"Class\", y = \"V19\", data = df1, ax = axes[1][1])\n",
    "axes[1][1].set_title(\"V19 vs Class \\n (having positive correlation)\")\n",
    "\n",
    "plt.show()\n",
    "\n",
    "print(\"The higher is the value of these features, more likely is the non fraud transaction\")"
   ]
  },
  {
   "cell_type": "code",
   "execution_count": 30,
   "id": "d1de0aad",
   "metadata": {},
   "outputs": [
    {
     "name": "stderr",
     "output_type": "stream",
     "text": [
      "D:\\Anaconda3distribution\\lib\\site-packages\\seaborn\\distributions.py:2619: FutureWarning: `distplot` is a deprecated function and will be removed in a future version. Please adapt your code to use either `displot` (a figure-level function with similar flexibility) or `histplot` (an axes-level function for histograms).\n",
      "  warnings.warn(msg, FutureWarning)\n",
      "D:\\Anaconda3distribution\\lib\\site-packages\\seaborn\\distributions.py:2619: FutureWarning: `distplot` is a deprecated function and will be removed in a future version. Please adapt your code to use either `displot` (a figure-level function with similar flexibility) or `histplot` (an axes-level function for histograms).\n",
      "  warnings.warn(msg, FutureWarning)\n",
      "D:\\Anaconda3distribution\\lib\\site-packages\\seaborn\\distributions.py:2619: FutureWarning: `distplot` is a deprecated function and will be removed in a future version. Please adapt your code to use either `displot` (a figure-level function with similar flexibility) or `histplot` (an axes-level function for histograms).\n",
      "  warnings.warn(msg, FutureWarning)\n",
      "D:\\Anaconda3distribution\\lib\\site-packages\\seaborn\\distributions.py:2619: FutureWarning: `distplot` is a deprecated function and will be removed in a future version. Please adapt your code to use either `displot` (a figure-level function with similar flexibility) or `histplot` (an axes-level function for histograms).\n",
      "  warnings.warn(msg, FutureWarning)\n"
     ]
    },
    {
     "data": {
      "image/png": "[encoded data removed]",
      "text/plain": [
       "<Figure size 720x576 with 4 Axes>"
      ]
     },
     "metadata": {
      "needs_background": "light"
     },
     "output_type": "display_data"
    },
    {
     "name": "stdout",
     "output_type": "stream",
     "text": [
      "V14 is the only feature among V10, V12, V16 that has almost normal distribution\n"
     ]
    }
   ],
   "source": [
    "from scipy.stats import norm\n",
    "\n",
    "f,([ax1, ax2], [ax3, ax4]) = plt.subplots(2,2,  figsize=(10,8))\n",
    "\n",
    "plt.subplots_adjust(hspace=0.4)\n",
    "\n",
    "sns.distplot(df1[df1['Class']==1]['V10'], fit=norm, ax = ax1, color='#7FE9DE')\n",
    "ax1.set_title('V10 Distribution \\n (Fraud Transaction)')\n",
    "\n",
    "sns.distplot(df1[df1['Class']==1]['V12'], fit=norm, ax = ax2, color='#68B984')\n",
    "ax2.set_title('V12 Distribution \\n (Fraud Transaction)')\n",
    "\n",
    "sns.distplot(df1[df1['Class']==1]['V14'], fit=norm, ax = ax3, color='#EB6440')\n",
    "ax3.set_title('V14 Distribution \\n (Fraud Transaction)')\n",
    "\n",
    "sns.distplot(df1[df1['Class']==1]['V16'], fit=norm, ax = ax4, color='#395144')\n",
    "ax4.set_title('V16 Distribution \\n (Fraud Transaction)')\n",
    "\n",
    "plt.show()\n",
    "print('V14 is the only feature among V10, V12, V16 that has almost normal distribution')"
   ]
  },
  {
   "cell_type": "code",
   "execution_count": 31,
   "id": "349a10b3",
   "metadata": {},
   "outputs": [],
   "source": [
    "def remove_outliers(fraud_data):\n",
    "    q25,q75 = np.percentile(fraud_data, 25), np.percentile(fraud_data, 75)\n",
    "    print('Quartile 25: {} | Quartile 75: {}'.format(q25, q75))\n",
    "    iqr = q75-q25\n",
    "    print('iqr: {}'.format(iqr))\n",
    "    cut_off = 1.5*iqr\n",
    "    print('Cut off: {}'.format(cut_off))\n",
    "    lower_lim, upper_lim = q25-cut_off, q75+cut_off\n",
    "    print('Lower: {}'.format(lower_lim))\n",
    "    print('Upper: {}'.format(upper_lim))\n",
    "    \n",
    "    outliers = [x for x in fraud_data if x<lower_lim or x>upper_lim]\n",
    "    return outliers"
   ]
  },
  {
   "cell_type": "code",
   "execution_count": 32,
   "id": "88d421fc",
   "metadata": {},
   "outputs": [
    {
     "name": "stdout",
     "output_type": "stream",
     "text": [
      "Removing outliers in feature V10\n",
      "\n",
      "Quartile 25: -7.7566982278474725 | Quartile 75: -2.6141839131895623\n",
      "iqr: 5.142514314657911\n",
      "Cut off: 7.713771471986866\n",
      "Lower: -15.47046969983434\n",
      "Upper: 5.099587558797303\n",
      "No. of outliers in feature V10: 19\n",
      "V10 outliers are: [-16.6496281595399, -20.9491915543611, -22.1870885620007, -22.1870885620007, -22.1870885620007, -22.1870885620007, -18.2711681738888, -16.6011969664137, -15.5637913387301, -23.2282548357516, -18.9132433348732, -16.2556117491401, -19.836148851696, -24.4031849699728, -15.5637913387301, -24.5882624372475, -17.1415136412892, -16.3035376590131, -16.7460441053944]\n"
     ]
    }
   ],
   "source": [
    "print('Removing outliers in feature V10\\n')\n",
    "outliers_10=remove_outliers(df1[df1['Class']==1]['V10'].values)\n",
    "print('No. of outliers in feature V10: {}'.format(len(outliers_10)))\n",
    "print('V10 outliers are: {}'.format(outliers_10))\n",
    "\n",
    "df1 = df1[df1['V10'].apply(lambda x:False if x in outliers_10 else True)]"
   ]
  },
  {
   "cell_type": "code",
   "execution_count": 33,
   "id": "b3528089",
   "metadata": {},
   "outputs": [
    {
     "data": {
      "text/plain": [
       "(965, 31)"
      ]
     },
     "execution_count": 33,
     "metadata": {},
     "output_type": "execute_result"
    }
   ],
   "source": [
    "df1.shape"
   ]
  },
  {
   "cell_type": "code",
   "execution_count": 34,
   "id": "2a04abcc",
   "metadata": {},
   "outputs": [
    {
     "name": "stdout",
     "output_type": "stream",
     "text": [
      "Removing outliers in feature V12\n",
      "\n",
      "Quartile 25: -8.46396612952571 | Quartile 75: -2.82494562476694\n",
      "iqr: 5.63902050475877\n",
      "Cut off: 8.458530757138156\n",
      "Lower: -16.922496886663865\n",
      "Upper: 5.633585132371216\n",
      "No. of outliers in feature V12: 13\n",
      "V12 outliers are: [-17.1829184301947, -17.003289445516, -17.1313009454468, -18.0475965708216, -17.2286622386187, -18.5536970096458, -18.4311310279993, -17.1829184301947, -18.6837146333443, -17.7691434633638, -17.1504052507291, -17.6316063138707, -17.003289445516]\n"
     ]
    }
   ],
   "source": [
    "print('Removing outliers in feature V12\\n')\n",
    "outliers_12=remove_outliers(df1[df1['Class']==1]['V12'].values)\n",
    "print('No. of outliers in feature V12: {}'.format(len(outliers_12)))\n",
    "print('V12 outliers are: {}'.format(outliers_12))\n",
    "\n",
    "df1 = df1[df1['V12'].apply(lambda x:False if x in outliers_12 else True)]"
   ]
  },
  {
   "cell_type": "code",
   "execution_count": 35,
   "id": "dcefa33a",
   "metadata": {},
   "outputs": [
    {
     "data": {
      "text/plain": [
       "(952, 31)"
      ]
     },
     "execution_count": 35,
     "metadata": {},
     "output_type": "execute_result"
    }
   ],
   "source": [
    "df1.shape"
   ]
  },
  {
   "cell_type": "code",
   "execution_count": 36,
   "id": "705462a2",
   "metadata": {},
   "outputs": [
    {
     "name": "stdout",
     "output_type": "stream",
     "text": [
      "Removing outliers in feature V14\n",
      "\n",
      "Quartile 25: -9.414161044857002 | Quartile 75: -4.288939281087107\n",
      "iqr: 5.125221763769894\n",
      "Cut off: 7.687832645654842\n",
      "Lower: -17.101993690511843\n",
      "Upper: 3.3988933645677344\n",
      "No. of outliers in feature V14: 5\n",
      "V14 outliers are: [3.44242199594215, -17.4759212828566, -17.230202160711, -17.7216383537133, -17.6206343516773]\n"
     ]
    }
   ],
   "source": [
    "print('Removing outliers in feature V14\\n')\n",
    "outliers_14=remove_outliers(df1[df1['Class']==1]['V14'].values)\n",
    "print('No. of outliers in feature V14: {}'.format(len(outliers_14)))\n",
    "print('V14 outliers are: {}'.format(outliers_14))\n",
    "\n",
    "df1 = df1[df1['V14'].apply(lambda x:False if x in outliers_14 else True)]"
   ]
  },
  {
   "cell_type": "code",
   "execution_count": 37,
   "id": "c675633e",
   "metadata": {},
   "outputs": [
    {
     "data": {
      "text/plain": [
       "(947, 31)"
      ]
     },
     "execution_count": 37,
     "metadata": {},
     "output_type": "execute_result"
    }
   ],
   "source": [
    "df1.shape"
   ]
  },
  {
   "cell_type": "code",
   "execution_count": 38,
   "id": "7f6def7c",
   "metadata": {},
   "outputs": [
    {
     "data": {
      "image/png": "[encoded data removed]",
      "text/plain": [
       "<Figure size 1440x432 with 3 Axes>"
      ]
     },
     "metadata": {
      "needs_background": "light"
     },
     "output_type": "display_data"
    }
   ],
   "source": [
    "f, ([ax1, ax2, ax3]) = plt.subplots(1, 3, figsize=(20,6))\n",
    "\n",
    "sns.boxplot(x = 'Class', y = 'V14', data=df1, ax=ax1)\n",
    "ax1.set_title('V14 Feature \\n Reduction of outliers', fontsize=14)\n",
    "\n",
    "sns.boxplot(x = 'Class', y = 'V12', data=df1, ax=ax2)\n",
    "ax2.set_title('V12 Feature \\n Reduction of outliers', fontsize=14)\n",
    "ax2.annotate(\"Fewer extreme \\n outliers\", xy=(0.98, -16.0), xytext=(0.02, -12.0), arrowprops=dict(facecolor='black'), fontsize=14)\n",
    "\n",
    "sns.boxplot(x = 'Class', y = 'V10', data=df1, ax=ax3)\n",
    "ax3.set_title('V10 Feature \\n Reduction of outliers', fontsize=14)\n",
    "ax3.annotate(\"Fewer extreme \\n outliers\", xy=(0.98, -15.0), xytext=(0.0, -10.0), arrowprops=dict(facecolor='black'), fontsize=14)\n",
    "\n",
    "plt.show()"
   ]
  },
  {
   "cell_type": "markdown",
   "id": "9c4bb7d7",
   "metadata": {},
   "source": [
    "# Classifiers Model on Random Undersampling Data"
   ]
  },
  {
   "cell_type": "code",
   "execution_count": 39,
   "id": "144d3616",
   "metadata": {},
   "outputs": [
    {
     "name": "stderr",
     "output_type": "stream",
     "text": [
      "D:\\Anaconda3distribution\\lib\\site-packages\\sklearn\\manifold\\_t_sne.py:780: FutureWarning: The default initialization in TSNE will change from 'random' to 'pca' in 1.2.\n",
      "  warnings.warn(\n",
      "D:\\Anaconda3distribution\\lib\\site-packages\\sklearn\\manifold\\_t_sne.py:790: FutureWarning: The default learning rate in TSNE will change from 200.0 to 'auto' in 1.2.\n",
      "  warnings.warn(\n"
     ]
    },
    {
     "name": "stdout",
     "output_type": "stream",
     "text": [
      "T-SNE took 4.2 s\n",
      "PCA took 0.044 s\n",
      "Truncated SVD took 0.008 s\n"
     ]
    }
   ],
   "source": [
    "X = df1.drop('Class', axis=1)\n",
    "y = df1['Class']\n",
    "\n",
    "# t-SNE implementation\n",
    "t0 = time.time()\n",
    "X_reduced_tsne = TSNE(n_components=2, random_state=42).fit_transform(X)\n",
    "t1 = time.time()\n",
    "print('T-SNE took {:.2} s'.format(t1-t0))\n",
    "\n",
    "# PCA implementation\n",
    "t0=time.time()\n",
    "X_reduced_pca = PCA(n_components=2, random_state=42).fit_transform(X)\n",
    "t1=time.time()\n",
    "print('PCA took {:.2} s'.format(t1-t0))\n",
    "\n",
    "# TruncatedSVD\n",
    "t0=time.time()\n",
    "X_reduced_svd = TruncatedSVD(n_components=2, algorithm = 'randomized' ,random_state=42).fit_transform(X)\n",
    "t1=time.time()\n",
    "print('Truncated SVD took {:.2} s'.format(t1-t0))"
   ]
  },
  {
   "cell_type": "code",
   "execution_count": 40,
   "id": "373b7ed1",
   "metadata": {},
   "outputs": [
    {
     "data": {
      "text/html": [
       "<div>\n",
       "<style scoped>\n",
       "    .dataframe tbody tr th:only-of-type {\n",
       "        vertical-align: middle;\n",
       "    }\n",
       "\n",
       "    .dataframe tbody tr th {\n",
       "        vertical-align: top;\n",
       "    }\n",
       "\n",
       "    .dataframe thead th {\n",
       "        text-align: right;\n",
       "    }\n",
       "</style>\n",
       "<table border=\"1\" class=\"dataframe\">\n",
       "  <thead>\n",
       "    <tr style=\"text-align: right;\">\n",
       "      <th></th>\n",
       "      <th>scaled_time</th>\n",
       "      <th>V1</th>\n",
       "      <th>V2</th>\n",
       "      <th>V3</th>\n",
       "      <th>V4</th>\n",
       "      <th>V5</th>\n",
       "      <th>V6</th>\n",
       "      <th>V7</th>\n",
       "      <th>V8</th>\n",
       "      <th>V9</th>\n",
       "      <th>...</th>\n",
       "      <th>V20</th>\n",
       "      <th>V21</th>\n",
       "      <th>V22</th>\n",
       "      <th>V23</th>\n",
       "      <th>V24</th>\n",
       "      <th>V25</th>\n",
       "      <th>V26</th>\n",
       "      <th>V27</th>\n",
       "      <th>V28</th>\n",
       "      <th>scaled_amount</th>\n",
       "    </tr>\n",
       "  </thead>\n",
       "  <tbody>\n",
       "    <tr>\n",
       "      <th>42756</th>\n",
       "      <td>-0.510568</td>\n",
       "      <td>-10.645800</td>\n",
       "      <td>5.918307</td>\n",
       "      <td>-11.671043</td>\n",
       "      <td>8.807369</td>\n",
       "      <td>-7.975501</td>\n",
       "      <td>-3.586806</td>\n",
       "      <td>-13.616797</td>\n",
       "      <td>6.428169</td>\n",
       "      <td>-7.368451</td>\n",
       "      <td>...</td>\n",
       "      <td>-0.046170</td>\n",
       "      <td>2.571970</td>\n",
       "      <td>0.206809</td>\n",
       "      <td>-1.667801</td>\n",
       "      <td>0.558419</td>\n",
       "      <td>-0.027898</td>\n",
       "      <td>0.354254</td>\n",
       "      <td>0.273329</td>\n",
       "      <td>-0.152908</td>\n",
       "      <td>-0.307413</td>\n",
       "    </tr>\n",
       "    <tr>\n",
       "      <th>206944</th>\n",
       "      <td>0.608102</td>\n",
       "      <td>2.136071</td>\n",
       "      <td>0.126259</td>\n",
       "      <td>-2.432376</td>\n",
       "      <td>0.133705</td>\n",
       "      <td>0.589418</td>\n",
       "      <td>-1.958386</td>\n",
       "      <td>1.026297</td>\n",
       "      <td>-0.688609</td>\n",
       "      <td>0.181814</td>\n",
       "      <td>...</td>\n",
       "      <td>-0.271705</td>\n",
       "      <td>0.279947</td>\n",
       "      <td>0.995637</td>\n",
       "      <td>-0.205117</td>\n",
       "      <td>0.134274</td>\n",
       "      <td>0.736324</td>\n",
       "      <td>0.458511</td>\n",
       "      <td>-0.106706</td>\n",
       "      <td>-0.089957</td>\n",
       "      <td>-0.144065</td>\n",
       "    </tr>\n",
       "    <tr>\n",
       "      <th>111690</th>\n",
       "      <td>-0.145267</td>\n",
       "      <td>-4.198735</td>\n",
       "      <td>0.194121</td>\n",
       "      <td>-3.917586</td>\n",
       "      <td>3.920748</td>\n",
       "      <td>-1.875486</td>\n",
       "      <td>-2.118933</td>\n",
       "      <td>-3.614445</td>\n",
       "      <td>1.687884</td>\n",
       "      <td>-2.189871</td>\n",
       "      <td>...</td>\n",
       "      <td>1.003350</td>\n",
       "      <td>0.801312</td>\n",
       "      <td>-0.183001</td>\n",
       "      <td>-0.440387</td>\n",
       "      <td>0.292539</td>\n",
       "      <td>-0.144967</td>\n",
       "      <td>-0.251744</td>\n",
       "      <td>1.249414</td>\n",
       "      <td>-0.131525</td>\n",
       "      <td>3.030811</td>\n",
       "    </tr>\n",
       "    <tr>\n",
       "      <th>159533</th>\n",
       "      <td>0.328011</td>\n",
       "      <td>1.862226</td>\n",
       "      <td>-0.050995</td>\n",
       "      <td>-1.701920</td>\n",
       "      <td>1.429781</td>\n",
       "      <td>0.397469</td>\n",
       "      <td>-0.914357</td>\n",
       "      <td>0.667681</td>\n",
       "      <td>-0.340680</td>\n",
       "      <td>0.224301</td>\n",
       "      <td>...</td>\n",
       "      <td>-0.152020</td>\n",
       "      <td>0.109709</td>\n",
       "      <td>0.304014</td>\n",
       "      <td>0.014194</td>\n",
       "      <td>1.082774</td>\n",
       "      <td>0.385452</td>\n",
       "      <td>-0.552502</td>\n",
       "      <td>-0.036955</td>\n",
       "      <td>-0.038705</td>\n",
       "      <td>0.908265</td>\n",
       "    </tr>\n",
       "    <tr>\n",
       "      <th>237653</th>\n",
       "      <td>0.759466</td>\n",
       "      <td>-1.538874</td>\n",
       "      <td>1.938769</td>\n",
       "      <td>-1.289902</td>\n",
       "      <td>-0.748175</td>\n",
       "      <td>-0.274495</td>\n",
       "      <td>-0.893620</td>\n",
       "      <td>-0.075625</td>\n",
       "      <td>1.210816</td>\n",
       "      <td>0.036569</td>\n",
       "      <td>...</td>\n",
       "      <td>-0.184410</td>\n",
       "      <td>-0.144143</td>\n",
       "      <td>-0.492212</td>\n",
       "      <td>0.169410</td>\n",
       "      <td>-0.675995</td>\n",
       "      <td>-0.629294</td>\n",
       "      <td>0.216508</td>\n",
       "      <td>0.223816</td>\n",
       "      <td>0.195294</td>\n",
       "      <td>-0.276392</td>\n",
       "    </tr>\n",
       "  </tbody>\n",
       "</table>\n",
       "<p>5 rows × 30 columns</p>\n",
       "</div>"
      ],
      "text/plain": [
       "        scaled_time         V1        V2         V3        V4        V5  \\\n",
       "42756     -0.510568 -10.645800  5.918307 -11.671043  8.807369 -7.975501   \n",
       "206944     0.608102   2.136071  0.126259  -2.432376  0.133705  0.589418   \n",
       "111690    -0.145267  -4.198735  0.194121  -3.917586  3.920748 -1.875486   \n",
       "159533     0.328011   1.862226 -0.050995  -1.701920  1.429781  0.397469   \n",
       "237653     0.759466  -1.538874  1.938769  -1.289902 -0.748175 -0.274495   \n",
       "\n",
       "              V6         V7        V8        V9  ...       V20       V21  \\\n",
       "42756  -3.586806 -13.616797  6.428169 -7.368451  ... -0.046170  2.571970   \n",
       "206944 -1.958386   1.026297 -0.688609  0.181814  ... -0.271705  0.279947   \n",
       "111690 -2.118933  -3.614445  1.687884 -2.189871  ...  1.003350  0.801312   \n",
       "159533 -0.914357   0.667681 -0.340680  0.224301  ... -0.152020  0.109709   \n",
       "237653 -0.893620  -0.075625  1.210816  0.036569  ... -0.184410 -0.144143   \n",
       "\n",
       "             V22       V23       V24       V25       V26       V27       V28  \\\n",
       "42756   0.206809 -1.667801  0.558419 -0.027898  0.354254  0.273329 -0.152908   \n",
       "206944  0.995637 -0.205117  0.134274  0.736324  0.458511 -0.106706 -0.089957   \n",
       "111690 -0.183001 -0.440387  0.292539 -0.144967 -0.251744  1.249414 -0.131525   \n",
       "159533  0.304014  0.014194  1.082774  0.385452 -0.552502 -0.036955 -0.038705   \n",
       "237653 -0.492212  0.169410 -0.675995 -0.629294  0.216508  0.223816  0.195294   \n",
       "\n",
       "        scaled_amount  \n",
       "42756       -0.307413  \n",
       "206944      -0.144065  \n",
       "111690       3.030811  \n",
       "159533       0.908265  \n",
       "237653      -0.276392  \n",
       "\n",
       "[5 rows x 30 columns]"
      ]
     },
     "execution_count": 40,
     "metadata": {},
     "output_type": "execute_result"
    }
   ],
   "source": [
    "X.head()"
   ]
  },
  {
   "cell_type": "code",
   "execution_count": 41,
   "id": "d2ca3d66",
   "metadata": {},
   "outputs": [
    {
     "data": {
      "image/png": "[encoded data removed]",
      "text/plain": [
       "<Figure size 1728x432 with 3 Axes>"
      ]
     },
     "metadata": {
      "needs_background": "light"
     },
     "output_type": "display_data"
    }
   ],
   "source": [
    "f, (ax1, ax2, ax3) = plt.subplots(1, 3, figsize=(24, 6))\n",
    "\n",
    "f.suptitle('Clusters formed after performing dimensionality reduction')\n",
    "\n",
    "ax1.scatter(X_reduced_tsne[:,0], X_reduced_tsne[:, 1], c=(y==0), label = 'No Fraud', cmap='bwr')\n",
    "ax1.scatter(X_reduced_tsne[:,0], X_reduced_tsne[:, 1], c=(y==1), label = 'Fraud', cmap='bwr')\n",
    "ax1.legend()\n",
    "ax1.set_title('t-SNE')\n",
    "ax1.grid(True)\n",
    "\n",
    "ax2.scatter(X_reduced_pca[:,0], X_reduced_pca[:, 1], c=(y==0), label = 'No Fraud', cmap='bwr')\n",
    "ax2.scatter(X_reduced_pca[:,0], X_reduced_pca[:, 1], c=(y==1), label = 'Fraud', cmap='bwr')\n",
    "ax2.legend()\n",
    "ax2.set_title('PCA')\n",
    "ax2.grid(True)\n",
    "\n",
    "\n",
    "ax3.scatter(X_reduced_svd[:,0], X_reduced_svd[:, 1], c=(y==0), label = 'No Fraud', cmap='bwr')\n",
    "ax3.scatter(X_reduced_svd[:,0], X_reduced_svd[:, 1], c=(y==1), label = 'Fraud', cmap='bwr')\n",
    "ax3.legend()\n",
    "ax3.set_title('Trucated SVD')\n",
    "ax3.grid(True)"
   ]
  },
  {
   "cell_type": "code",
   "execution_count": 42,
   "id": "f9223d7e",
   "metadata": {},
   "outputs": [],
   "source": [
    "X_train, X_test, y_train, y_test = train_test_split(X, y, test_size=0.2, random_state=42)"
   ]
  },
  {
   "cell_type": "code",
   "execution_count": 43,
   "id": "f14f4878",
   "metadata": {},
   "outputs": [],
   "source": [
    "classifiers = {\n",
    "    \"LogisticRegression\": LogisticRegression(),\n",
    "    \"Support Vector Machine\": SVC(),\n",
    "    \"KNearest\": KNeighborsClassifier(),\n",
    "    \"Decision Tree Classifier\": DecisionTreeClassifier(max_depth=5)\n",
    "}"
   ]
  },
  {
   "cell_type": "code",
   "execution_count": 44,
   "id": "50704b85",
   "metadata": {},
   "outputs": [
    {
     "name": "stdout",
     "output_type": "stream",
     "text": [
      "classifier: LogisticRegression has a accauracy score of  94.0 % on the training dataset.\n",
      "classifier: SVC has a accauracy score of  93.0 % on the training dataset.\n",
      "classifier: KNeighborsClassifier has a accauracy score of  94.0 % on the training dataset.\n",
      "classifier: DecisionTreeClassifier has a accauracy score of  93.0 % on the training dataset.\n"
     ]
    }
   ],
   "source": [
    "for key, classifier in classifiers.items():\n",
    "    classifier.fit(X_train, y_train)\n",
    "    training_score = round(np.mean(cross_val_score(classifier, X_train, y_train, cv=5)),2)\n",
    "    print('classifier:', classifier.__class__.__name__, 'has a accauracy score of ', \n",
    "          training_score*100,'% on the training dataset.')"
   ]
  },
  {
   "cell_type": "code",
   "execution_count": 45,
   "id": "113f621c",
   "metadata": {},
   "outputs": [
    {
     "name": "stderr",
     "output_type": "stream",
     "text": [
      "D:\\Anaconda3distribution\\lib\\site-packages\\sklearn\\linear_model\\_logistic.py:814: ConvergenceWarning: lbfgs failed to converge (status=1):\n",
      "STOP: TOTAL NO. of ITERATIONS REACHED LIMIT.\n",
      "\n",
      "Increase the number of iterations (max_iter) or scale the data as shown in:\n",
      "    https://scikit-learn.org/stable/modules/preprocessing.html\n",
      "Please also refer to the documentation for alternative solver options:\n",
      "    https://scikit-learn.org/stable/modules/linear_model.html#logistic-regression\n",
      "  n_iter_i = _check_optimize_result(\n",
      "D:\\Anaconda3distribution\\lib\\site-packages\\sklearn\\linear_model\\_logistic.py:814: ConvergenceWarning: lbfgs failed to converge (status=1):\n",
      "STOP: TOTAL NO. of ITERATIONS REACHED LIMIT.\n",
      "\n",
      "Increase the number of iterations (max_iter) or scale the data as shown in:\n",
      "    https://scikit-learn.org/stable/modules/preprocessing.html\n",
      "Please also refer to the documentation for alternative solver options:\n",
      "    https://scikit-learn.org/stable/modules/linear_model.html#logistic-regression\n",
      "  n_iter_i = _check_optimize_result(\n",
      "D:\\Anaconda3distribution\\lib\\site-packages\\sklearn\\linear_model\\_logistic.py:814: ConvergenceWarning: lbfgs failed to converge (status=1):\n",
      "STOP: TOTAL NO. of ITERATIONS REACHED LIMIT.\n",
      "\n",
      "Increase the number of iterations (max_iter) or scale the data as shown in:\n",
      "    https://scikit-learn.org/stable/modules/preprocessing.html\n",
      "Please also refer to the documentation for alternative solver options:\n",
      "    https://scikit-learn.org/stable/modules/linear_model.html#logistic-regression\n",
      "  n_iter_i = _check_optimize_result(\n",
      "D:\\Anaconda3distribution\\lib\\site-packages\\sklearn\\linear_model\\_logistic.py:814: ConvergenceWarning: lbfgs failed to converge (status=1):\n",
      "STOP: TOTAL NO. of ITERATIONS REACHED LIMIT.\n",
      "\n",
      "Increase the number of iterations (max_iter) or scale the data as shown in:\n",
      "    https://scikit-learn.org/stable/modules/preprocessing.html\n",
      "Please also refer to the documentation for alternative solver options:\n",
      "    https://scikit-learn.org/stable/modules/linear_model.html#logistic-regression\n",
      "  n_iter_i = _check_optimize_result(\n",
      "D:\\Anaconda3distribution\\lib\\site-packages\\sklearn\\linear_model\\_logistic.py:814: ConvergenceWarning: lbfgs failed to converge (status=1):\n",
      "STOP: TOTAL NO. of ITERATIONS REACHED LIMIT.\n",
      "\n",
      "Increase the number of iterations (max_iter) or scale the data as shown in:\n",
      "    https://scikit-learn.org/stable/modules/preprocessing.html\n",
      "Please also refer to the documentation for alternative solver options:\n",
      "    https://scikit-learn.org/stable/modules/linear_model.html#logistic-regression\n",
      "  n_iter_i = _check_optimize_result(\n",
      "D:\\Anaconda3distribution\\lib\\site-packages\\sklearn\\linear_model\\_logistic.py:814: ConvergenceWarning: lbfgs failed to converge (status=1):\n",
      "STOP: TOTAL NO. of ITERATIONS REACHED LIMIT.\n",
      "\n",
      "Increase the number of iterations (max_iter) or scale the data as shown in:\n",
      "    https://scikit-learn.org/stable/modules/preprocessing.html\n",
      "Please also refer to the documentation for alternative solver options:\n",
      "    https://scikit-learn.org/stable/modules/linear_model.html#logistic-regression\n",
      "  n_iter_i = _check_optimize_result(\n",
      "D:\\Anaconda3distribution\\lib\\site-packages\\sklearn\\linear_model\\_logistic.py:814: ConvergenceWarning: lbfgs failed to converge (status=1):\n",
      "STOP: TOTAL NO. of ITERATIONS REACHED LIMIT.\n",
      "\n",
      "Increase the number of iterations (max_iter) or scale the data as shown in:\n",
      "    https://scikit-learn.org/stable/modules/preprocessing.html\n",
      "Please also refer to the documentation for alternative solver options:\n",
      "    https://scikit-learn.org/stable/modules/linear_model.html#logistic-regression\n",
      "  n_iter_i = _check_optimize_result(\n",
      "D:\\Anaconda3distribution\\lib\\site-packages\\sklearn\\linear_model\\_logistic.py:814: ConvergenceWarning: lbfgs failed to converge (status=1):\n",
      "STOP: TOTAL NO. of ITERATIONS REACHED LIMIT.\n",
      "\n",
      "Increase the number of iterations (max_iter) or scale the data as shown in:\n",
      "    https://scikit-learn.org/stable/modules/preprocessing.html\n",
      "Please also refer to the documentation for alternative solver options:\n",
      "    https://scikit-learn.org/stable/modules/linear_model.html#logistic-regression\n",
      "  n_iter_i = _check_optimize_result(\n",
      "D:\\Anaconda3distribution\\lib\\site-packages\\sklearn\\linear_model\\_logistic.py:814: ConvergenceWarning: lbfgs failed to converge (status=1):\n",
      "STOP: TOTAL NO. of ITERATIONS REACHED LIMIT.\n",
      "\n",
      "Increase the number of iterations (max_iter) or scale the data as shown in:\n",
      "    https://scikit-learn.org/stable/modules/preprocessing.html\n",
      "Please also refer to the documentation for alternative solver options:\n",
      "    https://scikit-learn.org/stable/modules/linear_model.html#logistic-regression\n",
      "  n_iter_i = _check_optimize_result(\n",
      "D:\\Anaconda3distribution\\lib\\site-packages\\sklearn\\linear_model\\_logistic.py:814: ConvergenceWarning: lbfgs failed to converge (status=1):\n",
      "STOP: TOTAL NO. of ITERATIONS REACHED LIMIT.\n",
      "\n",
      "Increase the number of iterations (max_iter) or scale the data as shown in:\n",
      "    https://scikit-learn.org/stable/modules/preprocessing.html\n",
      "Please also refer to the documentation for alternative solver options:\n",
      "    https://scikit-learn.org/stable/modules/linear_model.html#logistic-regression\n",
      "  n_iter_i = _check_optimize_result(\n",
      "D:\\Anaconda3distribution\\lib\\site-packages\\sklearn\\linear_model\\_logistic.py:814: ConvergenceWarning: lbfgs failed to converge (status=1):\n",
      "STOP: TOTAL NO. of ITERATIONS REACHED LIMIT.\n",
      "\n",
      "Increase the number of iterations (max_iter) or scale the data as shown in:\n",
      "    https://scikit-learn.org/stable/modules/preprocessing.html\n",
      "Please also refer to the documentation for alternative solver options:\n",
      "    https://scikit-learn.org/stable/modules/linear_model.html#logistic-regression\n",
      "  n_iter_i = _check_optimize_result(\n",
      "D:\\Anaconda3distribution\\lib\\site-packages\\sklearn\\linear_model\\_logistic.py:814: ConvergenceWarning: lbfgs failed to converge (status=1):\n",
      "STOP: TOTAL NO. of ITERATIONS REACHED LIMIT.\n",
      "\n",
      "Increase the number of iterations (max_iter) or scale the data as shown in:\n",
      "    https://scikit-learn.org/stable/modules/preprocessing.html\n",
      "Please also refer to the documentation for alternative solver options:\n",
      "    https://scikit-learn.org/stable/modules/linear_model.html#logistic-regression\n",
      "  n_iter_i = _check_optimize_result(\n",
      "D:\\Anaconda3distribution\\lib\\site-packages\\sklearn\\linear_model\\_logistic.py:814: ConvergenceWarning: lbfgs failed to converge (status=1):\n",
      "STOP: TOTAL NO. of ITERATIONS REACHED LIMIT.\n",
      "\n",
      "Increase the number of iterations (max_iter) or scale the data as shown in:\n",
      "    https://scikit-learn.org/stable/modules/preprocessing.html\n",
      "Please also refer to the documentation for alternative solver options:\n",
      "    https://scikit-learn.org/stable/modules/linear_model.html#logistic-regression\n",
      "  n_iter_i = _check_optimize_result(\n",
      "D:\\Anaconda3distribution\\lib\\site-packages\\sklearn\\linear_model\\_logistic.py:814: ConvergenceWarning: lbfgs failed to converge (status=1):\n",
      "STOP: TOTAL NO. of ITERATIONS REACHED LIMIT.\n",
      "\n",
      "Increase the number of iterations (max_iter) or scale the data as shown in:\n",
      "    https://scikit-learn.org/stable/modules/preprocessing.html\n",
      "Please also refer to the documentation for alternative solver options:\n",
      "    https://scikit-learn.org/stable/modules/linear_model.html#logistic-regression\n",
      "  n_iter_i = _check_optimize_result(\n",
      "D:\\Anaconda3distribution\\lib\\site-packages\\sklearn\\linear_model\\_logistic.py:814: ConvergenceWarning: lbfgs failed to converge (status=1):\n",
      "STOP: TOTAL NO. of ITERATIONS REACHED LIMIT.\n",
      "\n",
      "Increase the number of iterations (max_iter) or scale the data as shown in:\n",
      "    https://scikit-learn.org/stable/modules/preprocessing.html\n",
      "Please also refer to the documentation for alternative solver options:\n",
      "    https://scikit-learn.org/stable/modules/linear_model.html#logistic-regression\n",
      "  n_iter_i = _check_optimize_result(\n",
      "D:\\Anaconda3distribution\\lib\\site-packages\\sklearn\\model_selection\\_validation.py:372: FitFailedWarning: \n",
      "35 fits failed out of a total of 70.\n",
      "The score on these train-test partitions for these parameters will be set to nan.\n",
      "If these failures are not expected, you can try to debug them by setting error_score='raise'.\n",
      "\n",
      "Below are more details about the failures:\n",
      "--------------------------------------------------------------------------------\n",
      "35 fits failed with the following error:\n",
      "Traceback (most recent call last):\n",
      "  File \"D:\\Anaconda3distribution\\lib\\site-packages\\sklearn\\model_selection\\_validation.py\", line 680, in _fit_and_score\n",
      "    estimator.fit(X_train, y_train, **fit_params)\n",
      "  File \"D:\\Anaconda3distribution\\lib\\site-packages\\sklearn\\linear_model\\_logistic.py\", line 1461, in fit\n",
      "    solver = _check_solver(self.solver, self.penalty, self.dual)\n",
      "  File \"D:\\Anaconda3distribution\\lib\\site-packages\\sklearn\\linear_model\\_logistic.py\", line 447, in _check_solver\n",
      "    raise ValueError(\n",
      "ValueError: Solver lbfgs supports only 'l2' or 'none' penalties, got l1 penalty.\n",
      "\n",
      "  warnings.warn(some_fits_failed_message, FitFailedWarning)\n"
     ]
    },
    {
     "name": "stderr",
     "output_type": "stream",
     "text": [
      "D:\\Anaconda3distribution\\lib\\site-packages\\sklearn\\model_selection\\_search.py:969: UserWarning: One or more of the test scores are non-finite: [       nan 0.91808121        nan 0.9405542         nan 0.94718543\n",
      "        nan 0.94322935        nan 0.94587835        nan 0.94323806\n",
      "        nan 0.94455385]\n",
      "  warnings.warn(\n"
     ]
    },
    {
     "name": "stdout",
     "output_type": "stream",
     "text": [
      "Best parameters in logistic Regression is:  {'C': 0.1, 'penalty': 'l2'}\n",
      "Best score of logistic Regression is :  95.0 %\n",
      "Best parameters in K nearest neighbor is:  {'algorithm': 'auto', 'n_neighbors': 3}\n",
      "Best score of K nearest neighbor is :  94.0 %\n",
      "Best parameters in support vector classifier is:  {'C': 1, 'kernel': 'linear'}\n",
      "Best score of support vector classifier is :  95.0 %\n",
      "Best parameters in decision tree classifier is:  {'criterion': 'entropy', 'max_depth': None, 'min_samples_split': 0.25}\n",
      "Best score of decision tree classifier is :  93.0 %\n"
     ]
    }
   ],
   "source": [
    "# Logistic Regression\n",
    "logReg_params = {\"penalty\":['l1', 'l2'], 'C':[0.001, 0.01, 0.1, 1, 10, 100, 1000]}\n",
    "grid_logReg = GridSearchCV(LogisticRegression(), logReg_params, cv=5)\n",
    "grid_logReg.fit(X_train, y_train)\n",
    "print(\"Best parameters in logistic Regression is: \", grid_logReg.best_params_)\n",
    "logReg = grid_logReg.best_estimator_\n",
    "print(\"Best score of logistic Regression is : \", round(grid_logReg.best_score_, 2)*100,\"%\")\n",
    "\n",
    "# K Nearest Neighbor\n",
    "K_params = {\"n_neighbors\":[2,3,4], 'algorithm':['auto', 'ball_tree', 'kd_tree', 'brute']}\n",
    "grid_knears = GridSearchCV(KNeighborsClassifier(), K_params, cv=5)\n",
    "grid_knears.fit(X_train, y_train)\n",
    "print(\"Best parameters in K nearest neighbor is: \", grid_knears.best_params_)\n",
    "knn = grid_knears.best_estimator_\n",
    "print(\"Best score of K nearest neighbor is : \", round(grid_knears.best_score_, 2)*100, \"%\")\n",
    "\n",
    "# Support Vector Classifier\n",
    "svc_params = {'C':[0.1, 0.5, 0.8, 1, 4], 'kernel':['rbf', 'poly', 'sigmoid', 'linear']}\n",
    "grid_svc = GridSearchCV(SVC(), svc_params, cv=5)\n",
    "grid_svc.fit(X_train, y_train)\n",
    "print(\"Best parameters in support vector classifier is: \", grid_svc.best_params_)\n",
    "svc = grid_svc.best_estimator_\n",
    "print(\"Best score of support vector classifier is : \", round(grid_svc.best_score_, 2)*100, \"%\")\n",
    "\n",
    "# Decision Tree Classifier\n",
    "dc_params = {'criterion':['gini', 'entropy'], 'max_depth':[None, 1, 2, 3, 5], 'min_samples_split':[0.25, 0.5, 0.6, 0.75]}\n",
    "grid_dc = GridSearchCV(DecisionTreeClassifier(), dc_params, cv=5)\n",
    "grid_dc.fit(X_train, y_train)\n",
    "print(\"Best parameters in decision tree classifier is: \", grid_dc.best_params_)\n",
    "dc = grid_dc.best_estimator_\n",
    "print(\"Best score of decision tree classifier is : \", round(grid_dc.best_score_, 2)*100, \"%\")\n"
   ]
  },
  {
   "cell_type": "code",
   "execution_count": 46,
   "id": "04d84c57",
   "metadata": {},
   "outputs": [
    {
     "data": {
      "text/plain": [
       "<bound method BaseForest.decision_path of RandomForestClassifier(max_depth=2, min_samples_split=0.5, n_estimators=1000)>"
      ]
     },
     "execution_count": 46,
     "metadata": {},
     "output_type": "execute_result"
    }
   ],
   "source": [
    "rfc = RandomForestClassifier(n_estimators=1000, criterion='gini', max_depth=2, min_samples_split=0.5)\n",
    "rfc.fit(X_train, y_train)\n",
    "rfc.decision_path"
   ]
  },
  {
   "cell_type": "code",
   "execution_count": 47,
   "id": "67d33e6f",
   "metadata": {},
   "outputs": [
    {
     "name": "stdout",
     "output_type": "stream",
     "text": [
      "Train: [ 30473  30496  31002 ... 284804 284805 284806] Test: [    0     1     2 ... 57017 57018 57019]\n",
      "Train: [     0      1      2 ... 284804 284805 284806] Test: [ 30473  30496  31002 ... 113964 113965 113966]\n",
      "Train: [     0      1      2 ... 284804 284805 284806] Test: [ 81609  82400  83053 ... 170946 170947 170948]\n",
      "Train: [     0      1      2 ... 284804 284805 284806] Test: [150654 150660 150661 ... 227866 227867 227868]\n",
      "Train: [     0      1      2 ... 227866 227867 227868] Test: [212516 212644 213092 ... 284804 284805 284806]\n",
      "NearMiss Label Distribution: Counter({0: 492, 1: 492})\n"
     ]
    }
   ],
   "source": [
    "undersample_X = df.drop(columns='Class')\n",
    "undersample_y = df['Class']\n",
    "\n",
    "for train_index, test_index in sss.split(undersample_X, undersample_y):\n",
    "    print(\"Train:\", train_index,\"Test:\", test_index)\n",
    "    undersample_Xtrain, undersample_Xtest = undersample_X.iloc[train_index], undersample_X.iloc[test_index]\n",
    "    undersample_ytrain, undersample_ytest = undersample_y.iloc[train_index], undersample_y.iloc[test_index]\n",
    "    \n",
    "undersample_Xtrain = undersample_Xtrain.values\n",
    "undersample_Xtest = undersample_Xtest.values\n",
    "undersample_ytrain = undersample_ytrain.values\n",
    "undersample_ytest = undersample_ytest.values\n",
    "\n",
    "undersample_accuracy = []\n",
    "undersample_precision = []\n",
    "undersample_recall = []\n",
    "undersample_f1 = []\n",
    "undersample_auc = []\n",
    "\n",
    "X_nearmiss, y_nearmiss = NearMiss().fit_resample(undersample_X.values, undersample_y.values)\n",
    "print('NearMiss Label Distribution: {}'.format(Counter(y_nearmiss)))\n",
    "\n",
    "\n",
    "for train, test in sss.split(undersample_Xtrain, undersample_ytrain):\n",
    "    undersample_pipeline = make_pipeline(NearMiss(sampling_strategy = 'majority'), logReg)\n",
    "    undersample_model = undersample_pipeline.fit(undersample_Xtrain[train], undersample_ytrain[train])\n",
    "    undersample_prediction = undersample_model.predict(undersample_Xtrain[test])\n",
    "    \n",
    "    undersample_accuracy.append(undersample_pipeline.score(original_Xtrain[test], original_ytrain[test]))\n",
    "    undersample_precision.append(precision_score(original_ytrain[test], undersample_prediction))\n",
    "    undersample_recall.append(precision_score(original_ytrain[test], undersample_prediction))\n",
    "    undersample_f1.append(f1_score(original_ytrain[test], undersample_prediction))\n",
    "    undersample_auc.append(roc_auc_score(original_ytrain[test], undersample_prediction))"
   ]
  },
  {
   "cell_type": "code",
   "execution_count": 48,
   "id": "7dc8c79b",
   "metadata": {},
   "outputs": [
    {
     "name": "stdout",
     "output_type": "stream",
     "text": [
      "Logistic Regression :  0.9878592908595006\n",
      "Support Vector Classifier :  0.9845373802363802\n",
      "K Nearest Neighbors :  0.938194978669837\n",
      "Decision Tree Classifier :  0.9259913280648997\n"
     ]
    }
   ],
   "source": [
    "logReg_pred = cross_val_predict(logReg, X_train, y_train, cv=5, method='decision_function')\n",
    "print('Logistic Regression : ', roc_auc_score(y_train, logReg_pred))\n",
    "\n",
    "svc_pred = cross_val_predict(svc, X_train, y_train, cv=5, method='decision_function')\n",
    "print('Support Vector Classifier : ', roc_auc_score(y_train, svc_pred))\n",
    "\n",
    "knn_pred = cross_val_predict(knn, X_train, y_train, cv=5)\n",
    "print('K Nearest Neighbors : ',  roc_auc_score(y_train, knn_pred))\n",
    "\n",
    "dc_pred = cross_val_predict(dc, X_train, y_train, cv=5)\n",
    "print('Decision Tree Classifier : ', roc_auc_score(y_train, dc_pred))"
   ]
  },
  {
   "cell_type": "code",
   "execution_count": 49,
   "id": "1227fda0",
   "metadata": {},
   "outputs": [
    {
     "data": {
      "text/plain": [
       "(68,)"
      ]
     },
     "execution_count": 49,
     "metadata": {},
     "output_type": "execute_result"
    }
   ],
   "source": [
    "roc_curve(y_train, logReg_pred)[2].shape"
   ]
  },
  {
   "cell_type": "code",
   "execution_count": 50,
   "id": "68c3feb2",
   "metadata": {},
   "outputs": [
    {
     "data": {
      "image/png": "[encoded data removed]",
      "text/plain": [
       "<Figure size 1152x576 with 1 Axes>"
      ]
     },
     "metadata": {
      "needs_background": "light"
     },
     "output_type": "display_data"
    }
   ],
   "source": [
    "# fpr - false positive rate\n",
    "# tpr - true positive rate\n",
    "# threshold  - decision threshold\n",
    "\n",
    "log_fpr, log_tpr, log_threshold = roc_curve(y_train, logReg_pred)\n",
    "knn_fpr, knn_tpr, knn_threshold = roc_curve(y_train, knn_pred)\n",
    "svc_fpr, svc_tpr, svc_threshold = roc_curve(y_train, svc_pred)\n",
    "dc_fpr, dc_tpr, dc_threshold = roc_curve(y_train, dc_pred)\n",
    "\n",
    "\n",
    "plt.figure(figsize=(16,8))\n",
    "plt.title('ROC Curve \\n 4 Best Performing Classifier', fontsize=18)\n",
    "plt.ylabel('True Positive Rate', fontsize=14)\n",
    "plt.xlabel('False Positive Rate', fontsize=14)\n",
    "plt.plot(log_fpr, log_tpr, label='Logistic Regression Score: {:.3f}'.format(roc_auc_score(y_train, logReg_pred)))\n",
    "plt.plot(knn_fpr, knn_tpr, label='KNeighborsClassifier Score: {:.3f}'.format(roc_auc_score(y_train, knn_pred)))\n",
    "plt.plot(svc_fpr, svc_tpr, label='Support Vector Classifier Score: {:.3f}'.format(roc_auc_score(y_train, svc_pred)))\n",
    "plt.plot(dc_fpr,dc_tpr, label='Decision Tree Classifier Score: {:.3f}'.format(roc_auc_score(y_train, dc_pred)))\n",
    "plt.plot([0, 1], [0, 1], 'k--')\n",
    "plt.annotate('Minimum ROC score of 50% \\n (This is the minimum score to get)', xy=(0.5, 0.5), xytext=(0.6, 0.4), arrowprops=dict(facecolor='grey'))\n",
    "plt.legend()\n",
    "plt.show()"
   ]
  },
  {
   "cell_type": "code",
   "execution_count": 51,
   "id": "67836651",
   "metadata": {},
   "outputs": [
    {
     "data": {
      "text/plain": [
       "array([0.        , 0.        , 0.        , 0.        , 0.        ,\n",
       "       0.        , 0.        , 0.        , 0.        , 0.00253165,\n",
       "       0.00253165, 0.00506329, 0.00506329, 0.00759494, 0.00759494,\n",
       "       0.01518987, 0.01518987, 0.01772152, 0.01772152, 0.02025316,\n",
       "       0.02025316, 0.0278481 , 0.0278481 , 0.03544304, 0.03544304,\n",
       "       0.04050633, 0.04050633, 0.04303797, 0.04303797, 0.04810127,\n",
       "       0.04810127, 0.05063291, 0.05063291, 0.0556962 , 0.0556962 ,\n",
       "       0.06075949, 0.06075949, 0.06582278, 0.06582278, 0.08101266,\n",
       "       0.08101266, 0.09113924, 0.09113924, 0.10126582, 0.10126582,\n",
       "       0.10632911, 0.10632911, 0.10886076, 0.10886076, 0.12911392,\n",
       "       0.12911392, 0.13164557, 0.13164557, 0.17468354, 0.17468354,\n",
       "       0.17721519, 0.17721519, 0.21012658, 0.21012658, 0.24556962,\n",
       "       0.24556962, 0.36455696, 0.36455696, 0.49367089, 0.49367089,\n",
       "       0.59493671, 0.59493671, 1.        ])"
      ]
     },
     "execution_count": 51,
     "metadata": {},
     "output_type": "execute_result"
    }
   ],
   "source": [
    "log_fpr"
   ]
  },
  {
   "cell_type": "code",
   "execution_count": 52,
   "id": "67f5760d",
   "metadata": {
    "scrolled": false
   },
   "outputs": [
    {
     "name": "stdout",
     "output_type": "stream",
     "text": [
      "Model is Overfitting Over the Random Sampled Data\n",
      "------------------------------------------------------------------------------------------------------------------------------------------------------------------------------------------------------------------------------------------------------------\n",
      "              precision    recall  f1-score   support\n",
      "\n",
      "           0       0.95      0.79      0.86       395\n",
      "           1       0.80      0.95      0.87       362\n",
      "\n",
      "    accuracy                           0.87       757\n",
      "   macro avg       0.87      0.87      0.87       757\n",
      "weighted avg       0.88      0.87      0.86       757\n",
      "\n"
     ]
    },
    {
     "name": "stderr",
     "output_type": "stream",
     "text": [
      "D:\\Anaconda3distribution\\lib\\site-packages\\sklearn\\base.py:443: UserWarning: X has feature names, but LogisticRegression was fitted without feature names\n",
      "  warnings.warn(\n"
     ]
    }
   ],
   "source": [
    "print(\"Model is Overfitting Over the Random Sampled Data\")\n",
    "print(\"---\"*84)\n",
    "log_report = classification_report(y_train, logReg.predict(X_train))\n",
    "print(log_report)"
   ]
  },
  {
   "cell_type": "code",
   "execution_count": 53,
   "id": "2b23a275",
   "metadata": {},
   "outputs": [
    {
     "name": "stdout",
     "output_type": "stream",
     "text": [
      "Performance of Model Over Original Data\n",
      "------------------------------------------------------------------------------------------------------------------------------------------------------------------------------------------------------------------------------------------------------------\n",
      "Accuracy score:  0.7584995379877927\n",
      "Precision score:  0.00726691320965416\n",
      "Recall score:  0.00726691320965416\n",
      "F1 score:  0.01440495218529147\n"
     ]
    }
   ],
   "source": [
    "print(\"Performance of Model Over Original Data\")\n",
    "print(\"---\"*84)\n",
    "print(\"Accuracy score: \", np.mean(undersample_accuracy))\n",
    "print(\"Precision score: \", np.mean(undersample_precision))\n",
    "print(\"Recall score: \", np.mean(undersample_recall))\n",
    "print(\"F1 score: \", np.mean(undersample_f1))"
   ]
  },
  {
   "cell_type": "code",
   "execution_count": 54,
   "id": "85e8d028",
   "metadata": {},
   "outputs": [
    {
     "data": {
      "text/plain": [
       "array([ 0.52891524, 13.78110999,  4.70346974, ..., -3.14503383,\n",
       "       -1.5953886 , -0.05412777])"
      ]
     },
     "execution_count": 54,
     "metadata": {},
     "output_type": "execute_result"
    }
   ],
   "source": [
    "undersample_yscore = logReg.decision_function(original_Xtest)\n",
    "undersample_yscore"
   ]
  },
  {
   "cell_type": "code",
   "execution_count": 55,
   "id": "42c8516c",
   "metadata": {},
   "outputs": [
    {
     "name": "stdout",
     "output_type": "stream",
     "text": [
      "Average precision recall score: 0.02\n"
     ]
    }
   ],
   "source": [
    "undersample_average_precision = average_precision_score(original_ytest, undersample_yscore)\n",
    "print('Average precision recall score: {:.2f}'.format(undersample_average_precision))"
   ]
  },
  {
   "cell_type": "code",
   "execution_count": 56,
   "id": "f09fbb6c",
   "metadata": {},
   "outputs": [
    {
     "data": {
      "image/png": "[encoded data removed]",
      "text/plain": [
       "<Figure size 864x432 with 1 Axes>"
      ]
     },
     "metadata": {
      "needs_background": "light"
     },
     "output_type": "display_data"
    }
   ],
   "source": [
    "plt.figure(figsize=(12, 6))\n",
    "precision, recall, _ = precision_recall_curve(original_ytest, undersample_yscore)\n",
    "\n",
    "plt.step(recall, precision, alpha=1, where='post')\n",
    "plt.fill_between(recall, precision, step='post', alpha=0.2)\n",
    "plt.xlabel('Recall', fontsize=14)\n",
    "plt.ylabel('Precision', fontsize=14)\n",
    "plt.xlim([0, 1.01])\n",
    "plt.ylim([0, 0.04])\n",
    "plt.title('UnderSampling Precision Recall Curve: \\n Average Precision-Recall Score = {:.2f}'.format(undersample_average_precision), fontsize=16)\n",
    "plt.show()"
   ]
  },
  {
   "cell_type": "markdown",
   "id": "c0475a56",
   "metadata": {},
   "source": [
    "# Performing Oversampling using SMOTE"
   ]
  },
  {
   "cell_type": "code",
   "execution_count": 57,
   "id": "ee16f3ad",
   "metadata": {},
   "outputs": [
    {
     "name": "stdout",
     "output_type": "stream",
     "text": [
      "Length of X(train): 227846 | Length of y(train): 227846\n",
      "Length of X(test): 56961 | Length of y(test): 56961\n",
      "------------------------------------------------------------------------------------------------------------------------------------------------------------------------------------------------------------------------------------------------------------\n"
     ]
    },
    {
     "name": "stderr",
     "output_type": "stream",
     "text": [
      "D:\\Anaconda3distribution\\lib\\site-packages\\sklearn\\linear_model\\_logistic.py:814: ConvergenceWarning: lbfgs failed to converge (status=1):\n",
      "STOP: TOTAL NO. of ITERATIONS REACHED LIMIT.\n",
      "\n",
      "Increase the number of iterations (max_iter) or scale the data as shown in:\n",
      "    https://scikit-learn.org/stable/modules/preprocessing.html\n",
      "Please also refer to the documentation for alternative solver options:\n",
      "    https://scikit-learn.org/stable/modules/linear_model.html#logistic-regression\n",
      "  n_iter_i = _check_optimize_result(\n"
     ]
    },
    {
     "name": "stdout",
     "output_type": "stream",
     "text": [
      "Training Performance of Model Over Original Data Using SMOTE During Cross Validation\n",
      "------------------------------------------------------------------------------------------------------------------------------\n",
      "Accuracy score:  0.9427865697767492\n",
      "Precision score:  0.06146687528688351\n",
      "Recall score:  0.9137293086660175\n",
      "F1 score:  0.1133401364837106\n"
     ]
    }
   ],
   "source": [
    "print('Length of X(train): {} | Length of y(train): {}'.format(len(original_Xtrain), len(original_ytrain)))\n",
    "print('Length of X(test): {} | Length of y(test): {}'.format(len(original_Xtest), len(original_ytest)))\n",
    "print('---'*84)\n",
    "\n",
    "accuracy_smt = []\n",
    "precision_smt = []\n",
    "recall_smt = []\n",
    "f1_smt = []\n",
    "auc_smt = []\n",
    "\n",
    "rand_logReg_params = logReg_params\n",
    "\n",
    "# sss = StratifiedKFold(n_splits=5, shuffle=False, random_state=None)\n",
    "# rand_logReg = GridSearchCV(LogisticRegression(), rand_logReg_params, cv=4)\n",
    "\n",
    "for train_idx, test_idx in sss.split(original_Xtrain, original_ytrain):\n",
    "    oversample_pipeline = make_pipeline(SMOTE(sampling_strategy='not majority'), logReg)\n",
    "    oversample_model = oversample_pipeline.fit(original_Xtrain[train_idx], original_ytrain[train_idx])\n",
    "#     best_clfyr =  rand_logReg.best_estimator_\n",
    "    oversample_prediction = oversample_model.predict(original_Xtrain[test_idx])\n",
    "    \n",
    "    accuracy_smt.append(oversample_pipeline.score(original_Xtrain[test_idx], original_ytrain[test_idx]))\n",
    "    precision_smt.append(precision_score(original_ytrain[test_idx], oversample_prediction))\n",
    "    recall_smt.append(recall_score(original_ytrain[test_idx], oversample_prediction))\n",
    "    f1_smt.append(f1_score(original_ytrain[test_idx], oversample_prediction))\n",
    "    auc_smt.append(roc_auc_score(original_ytrain[test_idx], oversample_prediction))\n",
    "\n",
    "print(\"Training Performance of Model Over Original Data Using SMOTE During Cross Validation\")\n",
    "print(\"---\"*42)\n",
    "print(\"Accuracy score: \", np.mean(accuracy_smt))\n",
    "print(\"Precision score: \", np.mean(precision_smt))\n",
    "print(\"Recall score: \", np.mean(recall_smt))\n",
    "print(\"F1 score: \", np.mean(f1_smt))"
   ]
  },
  {
   "cell_type": "code",
   "execution_count": 58,
   "id": "c08b866e",
   "metadata": {},
   "outputs": [
    {
     "name": "stdout",
     "output_type": "stream",
     "text": [
      "              precision    recall  f1-score   support\n",
      "\n",
      "    No Fraud       1.00      0.99      0.99     56863\n",
      "       Fraud       0.11      0.86      0.20        98\n",
      "\n",
      "    accuracy                           0.99     56961\n",
      "   macro avg       0.56      0.92      0.60     56961\n",
      "weighted avg       1.00      0.99      0.99     56961\n",
      "\n"
     ]
    }
   ],
   "source": [
    "smt_prediction = oversample_model.predict(original_Xtest)\n",
    "print(classification_report(original_ytest, smt_prediction, target_names=['No Fraud', 'Fraud']))"
   ]
  },
  {
   "cell_type": "code",
   "execution_count": 59,
   "id": "00353d62",
   "metadata": {},
   "outputs": [],
   "source": [
    "smt_y_score = oversample_model.decision_function(original_Xtest)"
   ]
  },
  {
   "cell_type": "code",
   "execution_count": 60,
   "id": "a880bec6",
   "metadata": {},
   "outputs": [
    {
     "name": "stdout",
     "output_type": "stream",
     "text": [
      "Average precision recall score: 0.75\n"
     ]
    }
   ],
   "source": [
    "smt_average_precision = average_precision_score(original_ytest, smt_y_score)\n",
    "print('Average precision recall score: {:.2f}'.format(smt_average_precision))"
   ]
  },
  {
   "cell_type": "code",
   "execution_count": 61,
   "id": "3b8872c6",
   "metadata": {},
   "outputs": [
    {
     "data": {
      "image/png": "[encoded data removed]",
      "text/plain": [
       "<Figure size 864x432 with 1 Axes>"
      ]
     },
     "metadata": {
      "needs_background": "light"
     },
     "output_type": "display_data"
    }
   ],
   "source": [
    "plt.figure(figsize=(12, 6))\n",
    "precision, recall, _ = precision_recall_curve(original_ytest, smt_y_score)\n",
    "\n",
    "plt.step(recall, precision, alpha=1, where='post', color='#EB455F')\n",
    "plt.fill_between(recall, precision, step='post', alpha=0.2, color='#EB455F')\n",
    "plt.xlabel('Recall', fontsize=14)\n",
    "plt.ylabel('Precision', fontsize=14)\n",
    "plt.xlim([0, 1.01])\n",
    "plt.ylim([0, 1.0])\n",
    "plt.title('OverSampling Precision Recall Curve: \\n Average Precision-Recall Score = {:.2f}'.format(smt_average_precision), fontsize=16)\n",
    "plt.show()"
   ]
  },
  {
   "cell_type": "code",
   "execution_count": 62,
   "id": "e434151b",
   "metadata": {},
   "outputs": [],
   "source": [
    "sm = SMOTE(sampling_strategy='not majority', random_state=42)\n",
    "\n",
    "Xsm_train, ysm_train = sm.fit_resample(original_Xtrain, original_ytrain)"
   ]
  },
  {
   "cell_type": "code",
   "execution_count": 63,
   "id": "cc15ebb2",
   "metadata": {},
   "outputs": [
    {
     "name": "stdout",
     "output_type": "stream",
     "text": [
      "(454904, 30)\n"
     ]
    },
    {
     "data": {
      "text/plain": [
       "(227452,)"
      ]
     },
     "execution_count": 63,
     "metadata": {},
     "output_type": "execute_result"
    }
   ],
   "source": [
    "print(Xsm_train.shape)\n",
    "original_ytrain[original_ytrain==0].shape"
   ]
  },
  {
   "cell_type": "code",
   "execution_count": 64,
   "id": "8c875a8f",
   "metadata": {},
   "outputs": [
    {
     "name": "stdout",
     "output_type": "stream",
     "text": [
      "Time taken to fit oversample data: 11.107131481170654 sec\n"
     ]
    },
    {
     "name": "stderr",
     "output_type": "stream",
     "text": [
      "D:\\Anaconda3distribution\\lib\\site-packages\\sklearn\\linear_model\\_logistic.py:814: ConvergenceWarning: lbfgs failed to converge (status=1):\n",
      "STOP: TOTAL NO. of ITERATIONS REACHED LIMIT.\n",
      "\n",
      "Increase the number of iterations (max_iter) or scale the data as shown in:\n",
      "    https://scikit-learn.org/stable/modules/preprocessing.html\n",
      "Please also refer to the documentation for alternative solver options:\n",
      "    https://scikit-learn.org/stable/modules/linear_model.html#logistic-regression\n",
      "  n_iter_i = _check_optimize_result(\n"
     ]
    }
   ],
   "source": [
    "t0 = time.time()\n",
    "logReg_sm = grid_logReg.best_estimator_\n",
    "logReg_sm.fit(Xsm_train, ysm_train)\n",
    "t1 = time.time()\n",
    "print(\"Time taken to fit oversample data: {} sec\".format(t1-t0))"
   ]
  },
  {
   "cell_type": "markdown",
   "id": "736e6cb9",
   "metadata": {},
   "source": [
    "# Testing With Logistic Regression"
   ]
  },
  {
   "cell_type": "markdown",
   "id": "8bf6b2f0",
   "metadata": {},
   "source": [
    "<h2> Confusion Matrix:</h2>"
   ]
  },
  {
   "cell_type": "code",
   "execution_count": 65,
   "id": "fde84f3b",
   "metadata": {},
   "outputs": [
    {
     "name": "stderr",
     "output_type": "stream",
     "text": [
      "D:\\Anaconda3distribution\\lib\\site-packages\\sklearn\\base.py:443: UserWarning: X has feature names, but LogisticRegression was fitted without feature names\n",
      "  warnings.warn(\n"
     ]
    },
    {
     "data": {
      "image/png": "[encoded data removed]",
      "text/plain": [
       "<Figure size 1584x864 with 8 Axes>"
      ]
     },
     "metadata": {
      "needs_background": "light"
     },
     "output_type": "display_data"
    }
   ],
   "source": [
    "logReg_y_pred = logReg_sm.predict(X_test)\n",
    "knn_y_pred = knn.predict(X_test)\n",
    "svc_y_pred = svc.predict(X_test)\n",
    "dc_y_pred = dc.predict(X_test)\n",
    "\n",
    "logReg_cf = confusion_matrix(y_test, logReg_y_pred)\n",
    "knn_cf = confusion_matrix(y_test, knn_y_pred)\n",
    "svc_cf = confusion_matrix(y_test, svc_y_pred)\n",
    "dc_cf = confusion_matrix(y_test, dc_y_pred)\n",
    "\n",
    "fig, [[ax1, ax2], [ax3, ax4]] = plt.subplots(2, 2, figsize=(22, 12))\n",
    "\n",
    "plt.subplots_adjust(hspace=0.4)\n",
    "\n",
    "sns.heatmap(logReg_cf, ax=ax1, annot=True)\n",
    "ax1.set_title('Logistic Regression \\n Confusion Matrix', fontsize=14)\n",
    "ax1.set_xlabel('Predicted Class', fontsize=12)\n",
    "ax1.set_xticklabels(['Non Fraud(0)',  'Fraud(1)'], fontsize=12)\n",
    "ax1.set_ylabel('Actual Class', fontsize=12)\n",
    "ax1.set_yticklabels(['Non Fraud(0)',  'Fraud(1)'], fontsize=12)\n",
    "\n",
    "\n",
    "sns.heatmap(knn_cf, ax=ax2, annot=True)\n",
    "ax2.set_title('KNeighborsClassifier \\n Confusion Matrix', fontsize=14)\n",
    "ax2.set_xlabel('Predicted Class', fontsize=12)\n",
    "ax2.set_xticklabels(['Non Fraud(0)',  'Fraud(1)'], fontsize=12)\n",
    "ax2.set_ylabel('Actual Class', fontsize=12)\n",
    "ax2.set_yticklabels(['Non Fraud(0)',  'Fraud(1)'], fontsize=12)\n",
    "\n",
    "\n",
    "sns.heatmap(svc_cf, ax=ax3, annot=True)\n",
    "ax3.set_title('Support Vector Classifier \\n Confusion Matrix', fontsize=14)\n",
    "ax3.set_xlabel('Predicted Class', fontsize=12)\n",
    "ax3.set_xticklabels(['Non Fraud(0)',  'Fraud(1)'], fontsize=12)\n",
    "ax3.set_ylabel('Actual Class', fontsize=12)\n",
    "ax3.set_yticklabels(['Non Fraud(0)',  'Fraud(1)'], fontsize=12)\n",
    "\n",
    "\n",
    "sns.heatmap(dc_cf, ax=ax4, annot=True)\n",
    "ax4.set_title('Decision Tree Classifier \\n Confusion Matrix', fontsize=14)\n",
    "ax4.set_xlabel('Predicted Class', fontsize=12)\n",
    "ax4.set_xticklabels(['Non Fraud(0)',  'Fraud(1)'], fontsize=12)\n",
    "ax4.set_ylabel('Actual Class', fontsize=12)\n",
    "ax4.set_yticklabels(['Non Fraud(0)',  'Fraud(1)'], fontsize=12)\n",
    "\n",
    "plt.show()"
   ]
  },
  {
   "cell_type": "markdown",
   "id": "e20fc641",
   "metadata": {},
   "source": [
    "<b>Logistic Regression</b><br>\n",
    "TP = 80 1 - 1 <br>\n",
    "FN = 13 1 - 0 <br>\n",
    "TN = 96 0 - 0 <br>\n",
    "FP = 1  0 - 1 <br>"
   ]
  },
  {
   "cell_type": "code",
   "execution_count": 66,
   "id": "941af5b3",
   "metadata": {},
   "outputs": [
    {
     "data": {
      "text/plain": [
       "True     80\n",
       "False    13\n",
       "dtype: int64"
      ]
     },
     "execution_count": 66,
     "metadata": {},
     "output_type": "execute_result"
    }
   ],
   "source": [
    "pd.DataFrame(logReg_y_pred[y_test==1]==1).value_counts()"
   ]
  },
  {
   "cell_type": "code",
   "execution_count": 67,
   "id": "85eadabe",
   "metadata": {},
   "outputs": [
    {
     "data": {
      "text/plain": [
       "True     95\n",
       "False     2\n",
       "dtype: int64"
      ]
     },
     "execution_count": 67,
     "metadata": {},
     "output_type": "execute_result"
    }
   ],
   "source": [
    "pd.DataFrame(logReg_y_pred[y_test==0]==0).value_counts()"
   ]
  },
  {
   "cell_type": "code",
   "execution_count": 68,
   "id": "f8804fbd",
   "metadata": {},
   "outputs": [
    {
     "name": "stdout",
     "output_type": "stream",
     "text": [
      "Logistic Regression:\n",
      "------------------------------------------------------------------------------------------------------------------------------\n",
      "               precision    recall  f1-score   support\n",
      "\n",
      "           0       0.88      0.98      0.93        97\n",
      "           1       0.98      0.86      0.91        93\n",
      "\n",
      "    accuracy                           0.92       190\n",
      "   macro avg       0.93      0.92      0.92       190\n",
      "weighted avg       0.93      0.92      0.92       190\n",
      " ------------------------------------------------------------------------------------------------------------------------------\n",
      "\n",
      "Support Vector Classifier:\n",
      "------------------------------------------------------------------------------------------------------------------------------\n",
      "               precision    recall  f1-score   support\n",
      "\n",
      "           0       0.86      0.97      0.91        97\n",
      "           1       0.96      0.84      0.90        93\n",
      "\n",
      "    accuracy                           0.91       190\n",
      "   macro avg       0.91      0.90      0.90       190\n",
      "weighted avg       0.91      0.91      0.90       190\n",
      " ------------------------------------------------------------------------------------------------------------------------------\n",
      "\n",
      "KNeighborsClassifier:\n",
      "------------------------------------------------------------------------------------------------------------------------------\n",
      "               precision    recall  f1-score   support\n",
      "\n",
      "           0       0.85      0.93      0.89        97\n",
      "           1       0.92      0.83      0.87        93\n",
      "\n",
      "    accuracy                           0.88       190\n",
      "   macro avg       0.88      0.88      0.88       190\n",
      "weighted avg       0.88      0.88      0.88       190\n",
      " ------------------------------------------------------------------------------------------------------------------------------\n",
      "\n",
      "Decision Tree Classifier:\n",
      "------------------------------------------------------------------------------------------------------------------------------\n",
      "               precision    recall  f1-score   support\n",
      "\n",
      "           0       0.84      0.98      0.90        97\n",
      "           1       0.97      0.81      0.88        93\n",
      "\n",
      "    accuracy                           0.89       190\n",
      "   macro avg       0.91      0.89      0.89       190\n",
      "weighted avg       0.91      0.89      0.89       190\n",
      " ------------------------------------------------------------------------------------------------------------------------------\n"
     ]
    }
   ],
   "source": [
    "print('Logistic Regression:\\n'+ '---'*42+'\\n', classification_report(y_test, logReg_y_pred), '--'*63)\n",
    "\n",
    "print('\\nSupport Vector Classifier:\\n'+ '---'*42+'\\n', classification_report(y_test, svc_y_pred), '--'*63)\n",
    "\n",
    "print('\\nKNeighborsClassifier:\\n'+ '---'*42+'\\n', classification_report(y_test, knn_y_pred), '--'*63)\n",
    "\n",
    "print('\\nDecision Tree Classifier:\\n'+ '---'*42+'\\n', classification_report(y_test, dc_y_pred), '--'*63)"
   ]
  },
  {
   "cell_type": "code",
   "execution_count": 69,
   "id": "aa4bf51b",
   "metadata": {},
   "outputs": [
    {
     "name": "stderr",
     "output_type": "stream",
     "text": [
      "D:\\Anaconda3distribution\\lib\\site-packages\\sklearn\\base.py:443: UserWarning: X has feature names, but LogisticRegression was fitted without feature names\n",
      "  warnings.warn(\n"
     ]
    },
    {
     "data": {
      "text/html": [
       "<div>\n",
       "<style scoped>\n",
       "    .dataframe tbody tr th:only-of-type {\n",
       "        vertical-align: middle;\n",
       "    }\n",
       "\n",
       "    .dataframe tbody tr th {\n",
       "        vertical-align: top;\n",
       "    }\n",
       "\n",
       "    .dataframe thead th {\n",
       "        text-align: right;\n",
       "    }\n",
       "</style>\n",
       "<table border=\"1\" class=\"dataframe\">\n",
       "  <thead>\n",
       "    <tr style=\"text-align: right;\">\n",
       "      <th></th>\n",
       "      <th>Technique</th>\n",
       "      <th>Score</th>\n",
       "    </tr>\n",
       "  </thead>\n",
       "  <tbody>\n",
       "    <tr>\n",
       "      <th>0</th>\n",
       "      <td>Random UnderSampling</td>\n",
       "      <td>0.921053</td>\n",
       "    </tr>\n",
       "    <tr>\n",
       "      <th>1</th>\n",
       "      <td>Oversampling (SMOTE)</td>\n",
       "      <td>0.988343</td>\n",
       "    </tr>\n",
       "  </tbody>\n",
       "</table>\n",
       "</div>"
      ],
      "text/plain": [
       "              Technique     Score\n",
       "0  Random UnderSampling  0.921053\n",
       "1  Oversampling (SMOTE)  0.988343"
      ]
     },
     "execution_count": 69,
     "metadata": {},
     "output_type": "execute_result"
    }
   ],
   "source": [
    "y_pred = logReg.predict(X_test)\n",
    "undersample_score = accuracy_score(y_test, y_pred)\n",
    "\n",
    "y_pred_smote = oversample_model.predict(original_Xtest)\n",
    "oversample_score = accuracy_score(original_ytest, y_pred_smote)\n",
    "\n",
    "d = {'Technique':['Random UnderSampling', 'Oversampling (SMOTE)'], 'Score':[undersample_score, oversample_score]}\n",
    "\n",
    "result  = pd.DataFrame(d)\n",
    "\n",
    "result"
   ]
  },
  {
   "cell_type": "markdown",
   "id": "7411d2f7",
   "metadata": {},
   "source": [
    "# Testing Neural Network Over Random UnderSampling Data and Oversampling Data"
   ]
  },
  {
   "cell_type": "code",
   "execution_count": 70,
   "id": "26f4e48b",
   "metadata": {},
   "outputs": [],
   "source": [
    "import tensorflow\n",
    "from tensorflow import keras\n",
    "from keras import backend as K\n",
    "from keras import Sequential\n",
    "from keras.layers import Activation\n",
    "from keras.layers import Dense\n",
    "from keras.optimizers import Adam\n",
    "from keras.metrics import categorical_crossentropy"
   ]
  },
  {
   "cell_type": "code",
   "execution_count": 71,
   "id": "74cb2225",
   "metadata": {},
   "outputs": [
    {
     "name": "stdout",
     "output_type": "stream",
     "text": [
      "Requirement already satisfied: tensorflow in d:\\anaconda3distribution\\lib\\site-packages (2.11.0)\n",
      "Requirement already satisfied: tensorflow-intel==2.11.0 in d:\\anaconda3distribution\\lib\\site-packages (from tensorflow) (2.11.0)\n",
      "Requirement already satisfied: astunparse>=1.6.0 in d:\\anaconda3distribution\\lib\\site-packages (from tensorflow-intel==2.11.0->tensorflow) (1.6.3)\n",
      "Requirement already satisfied: tensorflow-estimator<2.12,>=2.11.0 in d:\\anaconda3distribution\\lib\\site-packages (from tensorflow-intel==2.11.0->tensorflow) (2.11.0)\n",
      "Requirement already satisfied: typing-extensions>=3.6.6 in d:\\anaconda3distribution\\lib\\site-packages (from tensorflow-intel==2.11.0->tensorflow) (4.1.1)\n",
      "Requirement already satisfied: google-pasta>=0.1.1 in d:\\anaconda3distribution\\lib\\site-packages (from tensorflow-intel==2.11.0->tensorflow) (0.2.0)\n",
      "Requirement already satisfied: h5py>=2.9.0 in d:\\anaconda3distribution\\lib\\site-packages (from tensorflow-intel==2.11.0->tensorflow) (3.6.0)\n",
      "Requirement already satisfied: numpy>=1.20 in d:\\anaconda3distribution\\lib\\site-packages (from tensorflow-intel==2.11.0->tensorflow) (1.21.5)\n",
      "Requirement already satisfied: grpcio<2.0,>=1.24.3 in d:\\anaconda3distribution\\lib\\site-packages (from tensorflow-intel==2.11.0->tensorflow) (1.42.0)\n",
      "Requirement already satisfied: packaging in d:\\anaconda3distribution\\lib\\site-packages (from tensorflow-intel==2.11.0->tensorflow) (21.3)\n",
      "Requirement already satisfied: termcolor>=1.1.0 in d:\\anaconda3distribution\\lib\\site-packages (from tensorflow-intel==2.11.0->tensorflow) (2.1.1)\n",
      "Requirement already satisfied: opt-einsum>=2.3.2 in d:\\anaconda3distribution\\lib\\site-packages (from tensorflow-intel==2.11.0->tensorflow) (3.3.0)\n",
      "Requirement already satisfied: tensorboard<2.12,>=2.11 in d:\\anaconda3distribution\\lib\\site-packages (from tensorflow-intel==2.11.0->tensorflow) (2.11.0)\n",
      "Requirement already satisfied: wrapt>=1.11.0 in d:\\anaconda3distribution\\lib\\site-packages (from tensorflow-intel==2.11.0->tensorflow) (1.12.1)\n",
      "Requirement already satisfied: libclang>=13.0.0 in d:\\anaconda3distribution\\lib\\site-packages (from tensorflow-intel==2.11.0->tensorflow) (14.0.6)\n",
      "Requirement already satisfied: keras<2.12,>=2.11.0 in d:\\anaconda3distribution\\lib\\site-packages (from tensorflow-intel==2.11.0->tensorflow) (2.11.0)\n",
      "Requirement already satisfied: flatbuffers>=2.0 in d:\\anaconda3distribution\\lib\\site-packages (from tensorflow-intel==2.11.0->tensorflow) (22.12.6)\n",
      "Requirement already satisfied: setuptools in d:\\anaconda3distribution\\lib\\site-packages (from tensorflow-intel==2.11.0->tensorflow) (61.2.0)\n",
      "Requirement already satisfied: tensorflow-io-gcs-filesystem>=0.23.1 in d:\\anaconda3distribution\\lib\\site-packages (from tensorflow-intel==2.11.0->tensorflow) (0.28.0)\n",
      "Requirement already satisfied: protobuf<3.20,>=3.9.2 in d:\\anaconda3distribution\\lib\\site-packages (from tensorflow-intel==2.11.0->tensorflow) (3.19.1)\n",
      "Requirement already satisfied: absl-py>=1.0.0 in d:\\anaconda3distribution\\lib\\site-packages (from tensorflow-intel==2.11.0->tensorflow) (1.3.0)\n",
      "Requirement already satisfied: gast<=0.4.0,>=0.2.1 in d:\\anaconda3distribution\\lib\\site-packages (from tensorflow-intel==2.11.0->tensorflow) (0.4.0)\n",
      "Requirement already satisfied: six>=1.12.0 in d:\\anaconda3distribution\\lib\\site-packages (from tensorflow-intel==2.11.0->tensorflow) (1.16.0)\n",
      "Requirement already satisfied: wheel<1.0,>=0.23.0 in d:\\anaconda3distribution\\lib\\site-packages (from astunparse>=1.6.0->tensorflow-intel==2.11.0->tensorflow) (0.37.1)\n",
      "Requirement already satisfied: google-auth-oauthlib<0.5,>=0.4.1 in d:\\anaconda3distribution\\lib\\site-packages (from tensorboard<2.12,>=2.11->tensorflow-intel==2.11.0->tensorflow) (0.4.6)\n",
      "Requirement already satisfied: requests<3,>=2.21.0 in d:\\anaconda3distribution\\lib\\site-packages (from tensorboard<2.12,>=2.11->tensorflow-intel==2.11.0->tensorflow) (2.27.1)\n",
      "Requirement already satisfied: tensorboard-data-server<0.7.0,>=0.6.0 in d:\\anaconda3distribution\\lib\\site-packages (from tensorboard<2.12,>=2.11->tensorflow-intel==2.11.0->tensorflow) (0.6.1)\n",
      "Requirement already satisfied: tensorboard-plugin-wit>=1.6.0 in d:\\anaconda3distribution\\lib\\site-packages (from tensorboard<2.12,>=2.11->tensorflow-intel==2.11.0->tensorflow) (1.8.1)\n",
      "Requirement already satisfied: google-auth<3,>=1.6.3 in d:\\anaconda3distribution\\lib\\site-packages (from tensorboard<2.12,>=2.11->tensorflow-intel==2.11.0->tensorflow) (1.33.0)\n",
      "Requirement already satisfied: markdown>=2.6.8 in d:\\anaconda3distribution\\lib\\site-packages (from tensorboard<2.12,>=2.11->tensorflow-intel==2.11.0->tensorflow) (3.3.4)\n",
      "Requirement already satisfied: werkzeug>=1.0.1 in d:\\anaconda3distribution\\lib\\site-packages (from tensorboard<2.12,>=2.11->tensorflow-intel==2.11.0->tensorflow) (2.0.3)\n",
      "Requirement already satisfied: pyasn1-modules>=0.2.1 in d:\\anaconda3distribution\\lib\\site-packages (from google-auth<3,>=1.6.3->tensorboard<2.12,>=2.11->tensorflow-intel==2.11.0->tensorflow) (0.2.8)\n",
      "Requirement already satisfied: cachetools<5.0,>=2.0.0 in d:\\anaconda3distribution\\lib\\site-packages (from google-auth<3,>=1.6.3->tensorboard<2.12,>=2.11->tensorflow-intel==2.11.0->tensorflow) (4.2.2)\n",
      "Requirement already satisfied: rsa<5,>=3.1.4 in d:\\anaconda3distribution\\lib\\site-packages (from google-auth<3,>=1.6.3->tensorboard<2.12,>=2.11->tensorflow-intel==2.11.0->tensorflow) (4.7.2)\n",
      "Requirement already satisfied: requests-oauthlib>=0.7.0 in d:\\anaconda3distribution\\lib\\site-packages (from google-auth-oauthlib<0.5,>=0.4.1->tensorboard<2.12,>=2.11->tensorflow-intel==2.11.0->tensorflow) (1.3.1)\n",
      "Requirement already satisfied: pyasn1<0.5.0,>=0.4.6 in d:\\anaconda3distribution\\lib\\site-packages (from pyasn1-modules>=0.2.1->google-auth<3,>=1.6.3->tensorboard<2.12,>=2.11->tensorflow-intel==2.11.0->tensorflow) (0.4.8)\n",
      "Requirement already satisfied: idna<4,>=2.5 in d:\\anaconda3distribution\\lib\\site-packages (from requests<3,>=2.21.0->tensorboard<2.12,>=2.11->tensorflow-intel==2.11.0->tensorflow) (3.3)\n",
      "Requirement already satisfied: certifi>=2017.4.17 in d:\\anaconda3distribution\\lib\\site-packages (from requests<3,>=2.21.0->tensorboard<2.12,>=2.11->tensorflow-intel==2.11.0->tensorflow) (2021.10.8)\n",
      "Requirement already satisfied: charset-normalizer~=2.0.0 in d:\\anaconda3distribution\\lib\\site-packages (from requests<3,>=2.21.0->tensorboard<2.12,>=2.11->tensorflow-intel==2.11.0->tensorflow) (2.0.4)\n",
      "Requirement already satisfied: urllib3<1.27,>=1.21.1 in d:\\anaconda3distribution\\lib\\site-packages (from requests<3,>=2.21.0->tensorboard<2.12,>=2.11->tensorflow-intel==2.11.0->tensorflow) (1.26.9)\n",
      "Requirement already satisfied: oauthlib>=3.0.0 in d:\\anaconda3distribution\\lib\\site-packages (from requests-oauthlib>=0.7.0->google-auth-oauthlib<0.5,>=0.4.1->tensorboard<2.12,>=2.11->tensorflow-intel==2.11.0->tensorflow) (3.2.2)\n",
      "Requirement already satisfied: pyparsing!=3.0.5,>=2.0.2 in d:\\anaconda3distribution\\lib\\site-packages (from packaging->tensorflow-intel==2.11.0->tensorflow) (3.0.4)\n"
     ]
    }
   ],
   "source": [
    "!pip install tensorflow"
   ]
  },
  {
   "cell_type": "markdown",
   "id": "bc40f09a",
   "metadata": {},
   "source": [
    "# Trained with Random UnderSampling Data"
   ]
  },
  {
   "cell_type": "code",
   "execution_count": 72,
   "id": "f082f260",
   "metadata": {},
   "outputs": [],
   "source": [
    "n_inputs = X_train.shape[1]\n",
    "\n",
    "undersample_model = Sequential([Dense(n_inputs, input_shape=(n_inputs, ), activation = 'relu'),\n",
    "                               Dense(32, activation = 'relu'),\n",
    "                               Dense(2, activation = 'softmax')\n",
    "                               ])"
   ]
  },
  {
   "cell_type": "code",
   "execution_count": 73,
   "id": "5ea8cc28",
   "metadata": {},
   "outputs": [
    {
     "data": {
      "text/plain": [
       "(757, 30)"
      ]
     },
     "execution_count": 73,
     "metadata": {},
     "output_type": "execute_result"
    }
   ],
   "source": [
    "X_train.shape"
   ]
  },
  {
   "cell_type": "code",
   "execution_count": 74,
   "id": "ad47f84b",
   "metadata": {},
   "outputs": [
    {
     "name": "stdout",
     "output_type": "stream",
     "text": [
      "Model: \"sequential\"\n",
      "_________________________________________________________________\n",
      " Layer (type)                Output Shape              Param #   \n",
      "=================================================================\n",
      " dense (Dense)               (None, 30)                930       \n",
      "                                                                 \n",
      " dense_1 (Dense)             (None, 32)                992       \n",
      "                                                                 \n",
      " dense_2 (Dense)             (None, 2)                 66        \n",
      "                                                                 \n",
      "=================================================================\n",
      "Total params: 1,988\n",
      "Trainable params: 1,988\n",
      "Non-trainable params: 0\n",
      "_________________________________________________________________\n"
     ]
    }
   ],
   "source": [
    "undersample_model.summary()"
   ]
  },
  {
   "cell_type": "code",
   "execution_count": 75,
   "id": "3156d51f",
   "metadata": {},
   "outputs": [],
   "source": [
    "undersample_model.compile(Adam(learning_rate=0.001), loss='sparse_categorical_crossentropy', metrics=['accuracy'])"
   ]
  },
  {
   "cell_type": "code",
   "execution_count": 76,
   "id": "d34d6f48",
   "metadata": {},
   "outputs": [
    {
     "name": "stdout",
     "output_type": "stream",
     "text": [
      "Epoch 1/20\n",
      "25/25 - 3s - loss: 0.8073 - accuracy: 0.5157 - val_loss: 0.5037 - val_accuracy: 0.6513 - 3s/epoch - 100ms/step\n",
      "Epoch 2/20\n",
      "25/25 - 0s - loss: 0.4041 - accuracy: 0.8132 - val_loss: 0.3888 - val_accuracy: 0.8421 - 153ms/epoch - 6ms/step\n",
      "Epoch 3/20\n",
      "25/25 - 0s - loss: 0.3027 - accuracy: 0.9207 - val_loss: 0.3192 - val_accuracy: 0.9145 - 160ms/epoch - 6ms/step\n",
      "Epoch 4/20\n",
      "25/25 - 0s - loss: 0.2426 - accuracy: 0.9306 - val_loss: 0.2675 - val_accuracy: 0.9211 - 172ms/epoch - 7ms/step\n",
      "Epoch 5/20\n",
      "25/25 - 0s - loss: 0.2025 - accuracy: 0.9421 - val_loss: 0.2313 - val_accuracy: 0.9342 - 174ms/epoch - 7ms/step\n",
      "Epoch 6/20\n",
      "25/25 - 0s - loss: 0.1745 - accuracy: 0.9471 - val_loss: 0.2061 - val_accuracy: 0.9342 - 172ms/epoch - 7ms/step\n",
      "Epoch 7/20\n",
      "25/25 - 0s - loss: 0.1571 - accuracy: 0.9504 - val_loss: 0.1897 - val_accuracy: 0.9408 - 130ms/epoch - 5ms/step\n",
      "Epoch 8/20\n",
      "25/25 - 0s - loss: 0.1406 - accuracy: 0.9521 - val_loss: 0.1770 - val_accuracy: 0.9408 - 139ms/epoch - 6ms/step\n",
      "Epoch 9/20\n",
      "25/25 - 0s - loss: 0.1293 - accuracy: 0.9554 - val_loss: 0.1684 - val_accuracy: 0.9408 - 132ms/epoch - 5ms/step\n",
      "Epoch 10/20\n",
      "25/25 - 0s - loss: 0.1219 - accuracy: 0.9554 - val_loss: 0.1625 - val_accuracy: 0.9474 - 133ms/epoch - 5ms/step\n",
      "Epoch 11/20\n",
      "25/25 - 0s - loss: 0.1132 - accuracy: 0.9587 - val_loss: 0.1566 - val_accuracy: 0.9474 - 131ms/epoch - 5ms/step\n",
      "Epoch 12/20\n",
      "25/25 - 0s - loss: 0.1076 - accuracy: 0.9603 - val_loss: 0.1532 - val_accuracy: 0.9539 - 130ms/epoch - 5ms/step\n",
      "Epoch 13/20\n",
      "25/25 - 0s - loss: 0.1029 - accuracy: 0.9603 - val_loss: 0.1505 - val_accuracy: 0.9539 - 134ms/epoch - 5ms/step\n",
      "Epoch 14/20\n",
      "25/25 - 0s - loss: 0.0973 - accuracy: 0.9636 - val_loss: 0.1468 - val_accuracy: 0.9539 - 132ms/epoch - 5ms/step\n",
      "Epoch 15/20\n",
      "25/25 - 0s - loss: 0.0929 - accuracy: 0.9620 - val_loss: 0.1444 - val_accuracy: 0.9474 - 154ms/epoch - 6ms/step\n",
      "Epoch 16/20\n",
      "25/25 - 0s - loss: 0.0884 - accuracy: 0.9636 - val_loss: 0.1420 - val_accuracy: 0.9539 - 143ms/epoch - 6ms/step\n",
      "Epoch 17/20\n",
      "25/25 - 0s - loss: 0.0853 - accuracy: 0.9686 - val_loss: 0.1505 - val_accuracy: 0.9539 - 184ms/epoch - 7ms/step\n",
      "Epoch 18/20\n",
      "25/25 - 0s - loss: 0.0817 - accuracy: 0.9702 - val_loss: 0.1469 - val_accuracy: 0.9474 - 162ms/epoch - 6ms/step\n",
      "Epoch 19/20\n",
      "25/25 - 0s - loss: 0.0772 - accuracy: 0.9702 - val_loss: 0.1477 - val_accuracy: 0.9408 - 138ms/epoch - 6ms/step\n",
      "Epoch 20/20\n",
      "25/25 - 0s - loss: 0.0735 - accuracy: 0.9702 - val_loss: 0.1494 - val_accuracy: 0.9408 - 150ms/epoch - 6ms/step\n"
     ]
    },
    {
     "data": {
      "text/plain": [
       "<keras.callbacks.History at 0x246093aa820>"
      ]
     },
     "execution_count": 76,
     "metadata": {},
     "output_type": "execute_result"
    }
   ],
   "source": [
    "undersample_model.fit(X_train, y_train, validation_split=0.2, batch_size=25, epochs=20, shuffle=True, verbose=2)"
   ]
  },
  {
   "cell_type": "code",
   "execution_count": 77,
   "id": "b5c41cd3",
   "metadata": {},
   "outputs": [
    {
     "data": {
      "text/plain": [
       "array([[8.8882800e-05, 9.9991107e-01],\n",
       "       [2.1939054e-06, 9.9999785e-01],\n",
       "       [1.1704081e-01, 8.8295913e-01],\n",
       "       ...,\n",
       "       [9.9556667e-01, 4.4333632e-03],\n",
       "       [9.9289107e-01, 7.1089580e-03],\n",
       "       [9.3083596e-01, 6.9164060e-02]], dtype=float32)"
      ]
     },
     "execution_count": 77,
     "metadata": {},
     "output_type": "execute_result"
    }
   ],
   "source": [
    "undersample_predictions = undersample_model.predict(original_Xtest, batch_size=200, verbose=0)\n",
    "undersample_predictions"
   ]
  },
  {
   "cell_type": "code",
   "execution_count": 78,
   "id": "b971afeb",
   "metadata": {},
   "outputs": [
    {
     "data": {
      "text/plain": [
       "array([1, 1, 1, ..., 0, 0, 0], dtype=int64)"
      ]
     },
     "execution_count": 78,
     "metadata": {},
     "output_type": "execute_result"
    }
   ],
   "source": [
    "undersample_fraud_predictions = undersample_predictions.argmax(axis=1)\n",
    "undersample_fraud_predictions"
   ]
  },
  {
   "cell_type": "code",
   "execution_count": 79,
   "id": "15145fc0",
   "metadata": {},
   "outputs": [
    {
     "name": "stdout",
     "output_type": "stream",
     "text": [
      "[[54973  1890]\n",
      " [    9    89]]\n"
     ]
    },
    {
     "data": {
      "image/png": "[encoded data removed]",
      "text/plain": [
       "<Figure size 864x576 with 2 Axes>"
      ]
     },
     "metadata": {
      "needs_background": "light"
     },
     "output_type": "display_data"
    }
   ],
   "source": [
    "undersample_ntw = confusion_matrix(original_ytest, undersample_fraud_predictions)\n",
    "\n",
    "print(undersample_ntw)\n",
    "\n",
    "fig, ax = plt.subplots(figsize=(12, 8))\n",
    "\n",
    "sns.heatmap(undersample_ntw, ax=ax, annot=True)\n",
    "ax.set_title('Neural Network Trained With Random UnderSampling Data \\n Confusion Matrix', fontsize=14)\n",
    "ax.set_xlabel('Predicted Class', fontsize=12)\n",
    "ax.set_xticklabels(['Non Fraud(0)',  'Fraud(1)'], fontsize=12)\n",
    "ax.set_ylabel('Actual Class', fontsize=12)\n",
    "ax.set_yticklabels(['Non Fraud(0)',  'Fraud(1)'], fontsize=12)\n",
    "\n",
    "plt.show()"
   ]
  },
  {
   "cell_type": "markdown",
   "id": "f0e24bdc",
   "metadata": {},
   "source": [
    "# Trained with OverSampling Data (SMOTE)"
   ]
  },
  {
   "cell_type": "code",
   "execution_count": 80,
   "id": "083eb042",
   "metadata": {},
   "outputs": [],
   "source": [
    "n_inputs = Xsm_train.shape[1]\n",
    "\n",
    "oversample_model = Sequential([Dense(n_inputs, input_shape=(n_inputs, ), activation = 'relu'),\n",
    "                               Dense(32, activation = 'relu'),\n",
    "                               Dense(2, activation = 'softmax')\n",
    "                               ])"
   ]
  },
  {
   "cell_type": "code",
   "execution_count": 81,
   "id": "5212c873",
   "metadata": {},
   "outputs": [],
   "source": [
    "oversample_model.compile(optimizer=Adam(learning_rate=0.001),loss='sparse_categorical_crossentropy', metrics=['accuracy'])"
   ]
  },
  {
   "cell_type": "code",
   "execution_count": 82,
   "id": "d32382d5",
   "metadata": {},
   "outputs": [
    {
     "name": "stdout",
     "output_type": "stream",
     "text": [
      "Epoch 1/20\n",
      "1214/1214 - 6s - loss: 0.0709 - accuracy: 0.9722 - val_loss: 0.0257 - val_accuracy: 0.9939 - 6s/epoch - 5ms/step\n",
      "Epoch 2/20\n",
      "1214/1214 - 5s - loss: 0.0124 - accuracy: 0.9972 - val_loss: 0.0076 - val_accuracy: 0.9999 - 5s/epoch - 4ms/step\n",
      "Epoch 3/20\n",
      "1214/1214 - 4s - loss: 0.0068 - accuracy: 0.9986 - val_loss: 0.0032 - val_accuracy: 1.0000 - 4s/epoch - 4ms/step\n",
      "Epoch 4/20\n",
      "1214/1214 - 5s - loss: 0.0046 - accuracy: 0.9991 - val_loss: 0.0017 - val_accuracy: 1.0000 - 5s/epoch - 5ms/step\n",
      "Epoch 5/20\n",
      "1214/1214 - 6s - loss: 0.0035 - accuracy: 0.9992 - val_loss: 0.0067 - val_accuracy: 0.9993 - 6s/epoch - 5ms/step\n",
      "Epoch 6/20\n",
      "1214/1214 - 5s - loss: 0.0030 - accuracy: 0.9994 - val_loss: 0.0018 - val_accuracy: 1.0000 - 5s/epoch - 4ms/step\n",
      "Epoch 7/20\n",
      "1214/1214 - 5s - loss: 0.0026 - accuracy: 0.9995 - val_loss: 0.0014 - val_accuracy: 1.0000 - 5s/epoch - 4ms/step\n",
      "Epoch 8/20\n",
      "1214/1214 - 4s - loss: 0.0025 - accuracy: 0.9995 - val_loss: 6.8810e-04 - val_accuracy: 1.0000 - 4s/epoch - 3ms/step\n",
      "Epoch 9/20\n",
      "1214/1214 - 4s - loss: 0.0019 - accuracy: 0.9996 - val_loss: 0.0020 - val_accuracy: 1.0000 - 4s/epoch - 3ms/step\n",
      "Epoch 10/20\n",
      "1214/1214 - 5s - loss: 0.0018 - accuracy: 0.9996 - val_loss: 5.4159e-04 - val_accuracy: 1.0000 - 5s/epoch - 4ms/step\n",
      "Epoch 11/20\n",
      "1214/1214 - 4s - loss: 0.0016 - accuracy: 0.9997 - val_loss: 3.0121e-04 - val_accuracy: 1.0000 - 4s/epoch - 4ms/step\n",
      "Epoch 12/20\n",
      "1214/1214 - 3s - loss: 0.0015 - accuracy: 0.9997 - val_loss: 4.3705e-04 - val_accuracy: 1.0000 - 3s/epoch - 3ms/step\n",
      "Epoch 13/20\n",
      "1214/1214 - 4s - loss: 0.0013 - accuracy: 0.9997 - val_loss: 7.7724e-04 - val_accuracy: 1.0000 - 4s/epoch - 3ms/step\n",
      "Epoch 14/20\n",
      "1214/1214 - 5s - loss: 0.0013 - accuracy: 0.9997 - val_loss: 8.2704e-04 - val_accuracy: 0.9999 - 5s/epoch - 4ms/step\n",
      "Epoch 15/20\n",
      "1214/1214 - 4s - loss: 0.0011 - accuracy: 0.9998 - val_loss: 4.0197e-04 - val_accuracy: 1.0000 - 4s/epoch - 3ms/step\n",
      "Epoch 16/20\n",
      "1214/1214 - 3s - loss: 0.0011 - accuracy: 0.9998 - val_loss: 2.0091e-04 - val_accuracy: 1.0000 - 3s/epoch - 3ms/step\n",
      "Epoch 17/20\n",
      "1214/1214 - 3s - loss: 9.3532e-04 - accuracy: 0.9998 - val_loss: 2.3919e-04 - val_accuracy: 1.0000 - 3s/epoch - 2ms/step\n",
      "Epoch 18/20\n",
      "1214/1214 - 5s - loss: 0.0013 - accuracy: 0.9997 - val_loss: 3.0721e-04 - val_accuracy: 1.0000 - 5s/epoch - 4ms/step\n",
      "Epoch 19/20\n",
      "1214/1214 - 4s - loss: 7.4761e-04 - accuracy: 0.9998 - val_loss: 5.5204e-04 - val_accuracy: 1.0000 - 4s/epoch - 3ms/step\n",
      "Epoch 20/20\n",
      "1214/1214 - 3s - loss: 9.8245e-04 - accuracy: 0.9998 - val_loss: 5.5464e-04 - val_accuracy: 1.0000 - 3s/epoch - 3ms/step\n"
     ]
    },
    {
     "data": {
      "text/plain": [
       "<keras.callbacks.History at 0x2460a9487f0>"
      ]
     },
     "execution_count": 82,
     "metadata": {},
     "output_type": "execute_result"
    }
   ],
   "source": [
    "oversample_model.fit(Xsm_train, ysm_train, validation_split=0.2, batch_size=300, epochs=20, shuffle=True, verbose=2)"
   ]
  },
  {
   "cell_type": "code",
   "execution_count": 83,
   "id": "bbb5409f",
   "metadata": {},
   "outputs": [
    {
     "data": {
      "text/plain": [
       "array([[9.99995708e-01, 4.26006272e-06],\n",
       "       [9.05942321e-01, 9.40577388e-02],\n",
       "       [1.00000000e+00, 1.12163886e-32],\n",
       "       ...,\n",
       "       [1.00000000e+00, 4.26279986e-34],\n",
       "       [1.00000000e+00, 1.80894151e-32],\n",
       "       [1.00000000e+00, 1.76229930e-16]], dtype=float32)"
      ]
     },
     "execution_count": 83,
     "metadata": {},
     "output_type": "execute_result"
    }
   ],
   "source": [
    "oversample_predictions = oversample_model.predict(original_Xtest, batch_size=200, verbose=0)\n",
    "oversample_predictions"
   ]
  },
  {
   "cell_type": "code",
   "execution_count": 84,
   "id": "437ccbc2",
   "metadata": {},
   "outputs": [
    {
     "data": {
      "text/plain": [
       "array([0, 0, 0, ..., 0, 0, 0], dtype=int64)"
      ]
     },
     "execution_count": 84,
     "metadata": {},
     "output_type": "execute_result"
    }
   ],
   "source": [
    "oversample_fraud_predictions = oversample_predictions.argmax(axis=1)\n",
    "oversample_fraud_predictions"
   ]
  },
  {
   "cell_type": "code",
   "execution_count": 85,
   "id": "28d51e1a",
   "metadata": {},
   "outputs": [
    {
     "name": "stdout",
     "output_type": "stream",
     "text": [
      "[[56849    14]\n",
      " [   31    67]]\n"
     ]
    },
    {
     "data": {
      "image/png": "[encoded data removed]",
      "text/plain": [
       "<Figure size 864x576 with 2 Axes>"
      ]
     },
     "metadata": {
      "needs_background": "light"
     },
     "output_type": "display_data"
    }
   ],
   "source": [
    "oversample_ntw = confusion_matrix(original_ytest, oversample_fraud_predictions)\n",
    "\n",
    "print(oversample_ntw)\n",
    "\n",
    "fig, ax = plt.subplots(figsize=(12, 8))\n",
    "\n",
    "sns.heatmap(oversample_ntw, ax=ax, annot=True)\n",
    "ax.set_title('Neural Network Trained With OverSampling Data (SMOTE) \\n Confusion Matrix', fontsize=14)\n",
    "ax.set_xlabel('Predicted Class', fontsize=12)\n",
    "ax.set_xticklabels(['Non Fraud(0)',  'Fraud(1)'], fontsize=12)\n",
    "ax.set_ylabel('Actual Class', fontsize=12)\n",
    "ax.set_yticklabels(['Non Fraud(0)',  'Fraud(1)'], fontsize=12)\n",
    "\n",
    "plt.show()"
   ]
  },
  {
   "cell_type": "code",
   "execution_count": null,
   "id": "b0652c11",
   "metadata": {},
   "outputs": [],
   "source": []
  }
 ],
 "metadata": {
  "kernelspec": {
   "display_name": "Python 3 (ipykernel)",
   "language": "python",
   "name": "python3"
  },
  "language_info": {
   "codemirror_mode": {
    "name": "ipython",
    "version": 3
   },
   "file_extension": ".py",
   "mimetype": "text/x-python",
   "name": "python",
   "nbconvert_exporter": "python",
   "pygments_lexer": "ipython3",
   "version": "3.9.12"
  }
 },
 "nbformat": 4,
 "nbformat_minor": 5
}
